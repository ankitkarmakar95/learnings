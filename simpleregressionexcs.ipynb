{
  "nbformat": 4,
  "nbformat_minor": 0,
  "metadata": {
    "colab": {
      "name": "simpleregressionexcs.ipynb",
      "provenance": [],
      "collapsed_sections": [],
      "mount_file_id": "1fHpIcmky5ppiZiWaFFMO9939eUJTu8PQ",
      "authorship_tag": "ABX9TyM5ruJIrQX1nsMoB0V620IY",
      "include_colab_link": true
    },
    "kernelspec": {
      "name": "python3",
      "display_name": "Python 3"
    },
    "language_info": {
      "name": "python"
    }
  },
  "cells": [
    {
      "cell_type": "markdown",
      "metadata": {
        "id": "view-in-github",
        "colab_type": "text"
      },
      "source": [
        "<a href=\"https://colab.research.google.com/github/ankitkarmakar95/learnings/blob/main/simpleregressionexcs.ipynb\" target=\"_parent\"><img src=\"https://colab.research.google.com/assets/colab-badge.svg\" alt=\"Open In Colab\"/></a>"
      ]
    },
    {
      "cell_type": "code",
      "execution_count": null,
      "metadata": {
        "id": "MsleZtgOd8wn"
      },
      "outputs": [],
      "source": [
        "import numpy as np\n",
        "import pandas as pd\n",
        "import matplotlib.pyplot as plt\n",
        "%matplotlib inline\n",
        "from sklearn.model_selection import train_test_split\n",
        "from sklearn.linear_model import LinearRegression"
      ]
    },
    {
      "cell_type": "code",
      "source": [
        "boston=pd.read_csv('/content/drive/MyDrive/Colab Notebooks/boston_housing.csv')"
      ],
      "metadata": {
        "id": "OaFyZ_GIeFoO"
      },
      "execution_count": null,
      "outputs": []
    },
    {
      "cell_type": "code",
      "source": [
        "boston[['RM','MEDV']].head()"
      ],
      "metadata": {
        "colab": {
          "base_uri": "https://localhost:8080/",
          "height": 206
        },
        "id": "2WU6d01Ge9rx",
        "outputId": "46c56d54-492d-4736-f3cc-24f84164c690"
      },
      "execution_count": null,
      "outputs": [
        {
          "output_type": "execute_result",
          "data": {
            "text/plain": [
              "      RM  MEDV\n",
              "0  6.575  24.0\n",
              "1  6.421  21.6\n",
              "2  7.185  34.7\n",
              "3  6.998  33.4\n",
              "4  7.147  36.2"
            ],
            "text/html": [
              "\n",
              "  <div id=\"df-eb73f219-c5a8-42c4-a14a-7a3e59786182\">\n",
              "    <div class=\"colab-df-container\">\n",
              "      <div>\n",
              "<style scoped>\n",
              "    .dataframe tbody tr th:only-of-type {\n",
              "        vertical-align: middle;\n",
              "    }\n",
              "\n",
              "    .dataframe tbody tr th {\n",
              "        vertical-align: top;\n",
              "    }\n",
              "\n",
              "    .dataframe thead th {\n",
              "        text-align: right;\n",
              "    }\n",
              "</style>\n",
              "<table border=\"1\" class=\"dataframe\">\n",
              "  <thead>\n",
              "    <tr style=\"text-align: right;\">\n",
              "      <th></th>\n",
              "      <th>RM</th>\n",
              "      <th>MEDV</th>\n",
              "    </tr>\n",
              "  </thead>\n",
              "  <tbody>\n",
              "    <tr>\n",
              "      <th>0</th>\n",
              "      <td>6.575</td>\n",
              "      <td>24.0</td>\n",
              "    </tr>\n",
              "    <tr>\n",
              "      <th>1</th>\n",
              "      <td>6.421</td>\n",
              "      <td>21.6</td>\n",
              "    </tr>\n",
              "    <tr>\n",
              "      <th>2</th>\n",
              "      <td>7.185</td>\n",
              "      <td>34.7</td>\n",
              "    </tr>\n",
              "    <tr>\n",
              "      <th>3</th>\n",
              "      <td>6.998</td>\n",
              "      <td>33.4</td>\n",
              "    </tr>\n",
              "    <tr>\n",
              "      <th>4</th>\n",
              "      <td>7.147</td>\n",
              "      <td>36.2</td>\n",
              "    </tr>\n",
              "  </tbody>\n",
              "</table>\n",
              "</div>\n",
              "      <button class=\"colab-df-convert\" onclick=\"convertToInteractive('df-eb73f219-c5a8-42c4-a14a-7a3e59786182')\"\n",
              "              title=\"Convert this dataframe to an interactive table.\"\n",
              "              style=\"display:none;\">\n",
              "        \n",
              "  <svg xmlns=\"http://www.w3.org/2000/svg\" height=\"24px\"viewBox=\"0 0 24 24\"\n",
              "       width=\"24px\">\n",
              "    <path d=\"M0 0h24v24H0V0z\" fill=\"none\"/>\n",
              "    <path d=\"M18.56 5.44l.94 2.06.94-2.06 2.06-.94-2.06-.94-.94-2.06-.94 2.06-2.06.94zm-11 1L8.5 8.5l.94-2.06 2.06-.94-2.06-.94L8.5 2.5l-.94 2.06-2.06.94zm10 10l.94 2.06.94-2.06 2.06-.94-2.06-.94-.94-2.06-.94 2.06-2.06.94z\"/><path d=\"M17.41 7.96l-1.37-1.37c-.4-.4-.92-.59-1.43-.59-.52 0-1.04.2-1.43.59L10.3 9.45l-7.72 7.72c-.78.78-.78 2.05 0 2.83L4 21.41c.39.39.9.59 1.41.59.51 0 1.02-.2 1.41-.59l7.78-7.78 2.81-2.81c.8-.78.8-2.07 0-2.86zM5.41 20L4 18.59l7.72-7.72 1.47 1.35L5.41 20z\"/>\n",
              "  </svg>\n",
              "      </button>\n",
              "      \n",
              "  <style>\n",
              "    .colab-df-container {\n",
              "      display:flex;\n",
              "      flex-wrap:wrap;\n",
              "      gap: 12px;\n",
              "    }\n",
              "\n",
              "    .colab-df-convert {\n",
              "      background-color: #E8F0FE;\n",
              "      border: none;\n",
              "      border-radius: 50%;\n",
              "      cursor: pointer;\n",
              "      display: none;\n",
              "      fill: #1967D2;\n",
              "      height: 32px;\n",
              "      padding: 0 0 0 0;\n",
              "      width: 32px;\n",
              "    }\n",
              "\n",
              "    .colab-df-convert:hover {\n",
              "      background-color: #E2EBFA;\n",
              "      box-shadow: 0px 1px 2px rgba(60, 64, 67, 0.3), 0px 1px 3px 1px rgba(60, 64, 67, 0.15);\n",
              "      fill: #174EA6;\n",
              "    }\n",
              "\n",
              "    [theme=dark] .colab-df-convert {\n",
              "      background-color: #3B4455;\n",
              "      fill: #D2E3FC;\n",
              "    }\n",
              "\n",
              "    [theme=dark] .colab-df-convert:hover {\n",
              "      background-color: #434B5C;\n",
              "      box-shadow: 0px 1px 3px 1px rgba(0, 0, 0, 0.15);\n",
              "      filter: drop-shadow(0px 1px 2px rgba(0, 0, 0, 0.3));\n",
              "      fill: #FFFFFF;\n",
              "    }\n",
              "  </style>\n",
              "\n",
              "      <script>\n",
              "        const buttonEl =\n",
              "          document.querySelector('#df-eb73f219-c5a8-42c4-a14a-7a3e59786182 button.colab-df-convert');\n",
              "        buttonEl.style.display =\n",
              "          google.colab.kernel.accessAllowed ? 'block' : 'none';\n",
              "\n",
              "        async function convertToInteractive(key) {\n",
              "          const element = document.querySelector('#df-eb73f219-c5a8-42c4-a14a-7a3e59786182');\n",
              "          const dataTable =\n",
              "            await google.colab.kernel.invokeFunction('convertToInteractive',\n",
              "                                                     [key], {});\n",
              "          if (!dataTable) return;\n",
              "\n",
              "          const docLinkHtml = 'Like what you see? Visit the ' +\n",
              "            '<a target=\"_blank\" href=https://colab.research.google.com/notebooks/data_table.ipynb>data table notebook</a>'\n",
              "            + ' to learn more about interactive tables.';\n",
              "          element.innerHTML = '';\n",
              "          dataTable['output_type'] = 'display_data';\n",
              "          await google.colab.output.renderOutput(dataTable, element);\n",
              "          const docLink = document.createElement('div');\n",
              "          docLink.innerHTML = docLinkHtml;\n",
              "          element.appendChild(docLink);\n",
              "        }\n",
              "      </script>\n",
              "    </div>\n",
              "  </div>\n",
              "  "
            ]
          },
          "metadata": {},
          "execution_count": 54
        }
      ]
    },
    {
      "cell_type": "code",
      "source": [
        "mean_medv=boston['MEDV'].mean()\n",
        "plt.scatter(boston['RM'],boston['MEDV'],color='blue', marker='.')\n",
        "plt.xlabel('RM')\n",
        "plt.ylabel(\"MEDV\")\n",
        "plt.axhline(y=mean_medv,c='r')\n",
        "plt.annotate(\"Mean MEDV\",xy = (7.5,mean_medv+2))"
      ],
      "metadata": {
        "colab": {
          "base_uri": "https://localhost:8080/",
          "height": 297
        },
        "id": "IYWreM2JfdZX",
        "outputId": "0dd1c4cc-d0e0-442a-eaee-bb07e6ba59cf"
      },
      "execution_count": null,
      "outputs": [
        {
          "output_type": "execute_result",
          "data": {
            "text/plain": [
              "Text(7.5, 24.532806324110677, 'Mean MEDV')"
            ]
          },
          "metadata": {},
          "execution_count": 55
        },
        {
          "output_type": "display_data",
          "data": {
            "text/plain": [
              "<Figure size 432x288 with 1 Axes>"
            ],
            "image/png": "[encoded data removed]"
          },
          "metadata": {
            "needs_background": "light"
          }
        }
      ]
    },
    {
      "cell_type": "code",
      "source": [
        "main_data=boston[['RM','MEDV']]"
      ],
      "metadata": {
        "id": "dzvTppnzg5LP"
      },
      "execution_count": null,
      "outputs": []
    },
    {
      "cell_type": "code",
      "source": [
        "train, test = train_test_split(main_data,test_size=0.33,train_size=0.67)"
      ],
      "metadata": {
        "id": "Z-MsvdmEkPrG"
      },
      "execution_count": null,
      "outputs": []
    },
    {
      "cell_type": "code",
      "source": [
        "mean_medv=train['MEDV'].mean()\n",
        "plt.scatter(train['RM'],train['MEDV'],color='blue', marker='.')\n",
        "plt.xlabel('RM')\n",
        "plt.ylabel(\"MEDV\")\n",
        "plt.axhline(y=mean_medv,c='r')\n",
        "plt.annotate(\"Mean MEDV\",xy = (7.5,mean_medv+2))\n",
        "plt.title('Training Data')"
      ],
      "metadata": {
        "colab": {
          "base_uri": "https://localhost:8080/",
          "height": 313
        },
        "id": "zC74gsaJkthn",
        "outputId": "043b5965-9c22-44ed-91d9-e1bba1af19f3"
      },
      "execution_count": null,
      "outputs": [
        {
          "output_type": "execute_result",
          "data": {
            "text/plain": [
              "Text(0.5, 1.0, 'Training Data')"
            ]
          },
          "metadata": {},
          "execution_count": 58
        },
        {
          "output_type": "display_data",
          "data": {
            "text/plain": [
              "<Figure size 432x288 with 1 Axes>"
            ],
            "image/png": "[encoded data removed]"
          },
          "metadata": {
            "needs_background": "light"
          }
        }
      ]
    },
    {
      "cell_type": "code",
      "source": [
        "mean_medv=test['MEDV'].mean()\n",
        "plt.scatter(test['RM'],test['MEDV'],color='blue', marker='.')\n",
        "plt.xlabel('RM')\n",
        "plt.ylabel(\"MEDV\")\n",
        "plt.axhline(y=mean_medv,c='r')\n",
        "plt.annotate(\"Mean MEDV\",xy = (7.5,mean_medv+2))\n",
        "plt.title('Testing Data')"
      ],
      "metadata": {
        "colab": {
          "base_uri": "https://localhost:8080/",
          "height": 313
        },
        "id": "PTce0TRLlRcQ",
        "outputId": "d5fe2a23-0378-473d-95c4-53070bfd2439"
      },
      "execution_count": null,
      "outputs": [
        {
          "output_type": "execute_result",
          "data": {
            "text/plain": [
              "Text(0.5, 1.0, 'Testing Data')"
            ]
          },
          "metadata": {},
          "execution_count": 59
        },
        {
          "output_type": "display_data",
          "data": {
            "text/plain": [
              "<Figure size 432x288 with 1 Axes>"
            ],
            "image/png": "[encoded data removed]"
          },
          "metadata": {
            "needs_background": "light"
          }
        }
      ]
    },
    {
      "cell_type": "code",
      "source": [
        "X=train[['RM']]\n",
        "y=train['MEDV']\n",
        "model = LinearRegression()\n",
        "model.fit(X, y)\n",
        "i=model.intercept_\n",
        "c=model.coef_\n",
        "print(\"Intercept:\", i)\n",
        "print(\"Coefficients:\",c)"
      ],
      "metadata": {
        "colab": {
          "base_uri": "https://localhost:8080/"
        },
        "id": "I2dMeHH1lZc0",
        "outputId": "3dcaa121-6017-43e4-b5f8-9b73c1360930"
      },
      "execution_count": null,
      "outputs": [
        {
          "output_type": "stream",
          "name": "stdout",
          "text": [
            "Intercept: -34.27881898110375\n",
            "Coefficients: [9.05600525]\n"
          ]
        }
      ]
    },
    {
      "cell_type": "code",
      "source": [
        "fig,ax=plt.subplots()\n",
        "ax.scatter(train['RM'],train['MEDV'],color='blue', marker='.')\n",
        "best_fit_model=i+(c*train.RM)\n",
        "ax.plot(train.RM,best_fit_model,c='r')\n",
        "ax.set_title(\"Best_Fit_Model\")\n",
        "plt.xlabel('RM')\n",
        "plt.ylabel(\"MEDV\")"
      ],
      "metadata": {
        "colab": {
          "base_uri": "https://localhost:8080/",
          "height": 313
        },
        "id": "Hd6KCoYqEmI6",
        "outputId": "3bd79a8d-802a-46f0-8d2b-50449fafae3a"
      },
      "execution_count": null,
      "outputs": [
        {
          "output_type": "execute_result",
          "data": {
            "text/plain": [
              "Text(0, 0.5, 'MEDV')"
            ]
          },
          "metadata": {},
          "execution_count": 61
        },
        {
          "output_type": "display_data",
          "data": {
            "text/plain": [
              "<Figure size 432x288 with 1 Axes>"
            ],
            "image/png": "[encoded data removed]"
          },
          "metadata": {
            "needs_background": "light"
          }
        }
      ]
    },
    {
      "cell_type": "code",
      "source": [
        "best_fit_model_obs_train=pd.DataFrame({\n",
        "    'RM':train.RM,\n",
        "    'Actual MEDV':train.MEDV,\n",
        "    'Predicted MEDV':best_fit_model,\n",
        "    'Error':(train.MEDV-best_fit_model)\n",
        "})\n"
      ],
      "metadata": {
        "id": "rsUzCjYeOxxy"
      },
      "execution_count": null,
      "outputs": []
    },
    {
      "cell_type": "code",
      "source": [
        "SST_train = sum((train.MEDV.mean() - train.MEDV)**2)\n",
        "SST_train"
      ],
      "metadata": {
        "colab": {
          "base_uri": "https://localhost:8080/"
        },
        "id": "et7BcqG0R8y5",
        "outputId": "27922aca-a2ad-4b07-e02b-c461a6c70def"
      },
      "execution_count": null,
      "outputs": [
        {
          "output_type": "execute_result",
          "data": {
            "text/plain": [
              "29158.206902654892"
            ]
          },
          "metadata": {},
          "execution_count": 63
        }
      ]
    },
    {
      "cell_type": "code",
      "source": [
        "SSE_train = sum(best_fit_model_obs_train.Error**2)\n",
        "SSE_train"
      ],
      "metadata": {
        "colab": {
          "base_uri": "https://localhost:8080/"
        },
        "id": "NPENM7StTFW3",
        "outputId": "af02fec8-6371-4840-dd91-33527a8fecdb"
      },
      "execution_count": null,
      "outputs": [
        {
          "output_type": "execute_result",
          "data": {
            "text/plain": [
              "15646.885499884804"
            ]
          },
          "metadata": {},
          "execution_count": 64
        }
      ]
    },
    {
      "cell_type": "code",
      "source": [
        "SSR_train = SST_train - SSE_train\n",
        "SSR_train"
      ],
      "metadata": {
        "colab": {
          "base_uri": "https://localhost:8080/"
        },
        "id": "Oo0oGLalTOLO",
        "outputId": "7858fe7d-7147-4993-8f74-9e53b429cc79"
      },
      "execution_count": null,
      "outputs": [
        {
          "output_type": "execute_result",
          "data": {
            "text/plain": [
              "13511.321402770089"
            ]
          },
          "metadata": {},
          "execution_count": 65
        }
      ]
    },
    {
      "cell_type": "code",
      "source": [
        "Rsq_train = SSR_train/SST_train\n",
        "Rsq_train"
      ],
      "metadata": {
        "colab": {
          "base_uri": "https://localhost:8080/"
        },
        "id": "noA-_ZjbTawK",
        "outputId": "a9b682b8-a301-4312-8501-8c772a1c302e"
      },
      "execution_count": null,
      "outputs": [
        {
          "output_type": "execute_result",
          "data": {
            "text/plain": [
              "0.4633797080827993"
            ]
          },
          "metadata": {},
          "execution_count": 71
        }
      ]
    },
    {
      "cell_type": "code",
      "source": [
        "best_fit_model_test=i + (c*test.RM)\n",
        "best_fit_model_obs_test=pd.DataFrame({\n",
        "    'RM':test.RM,\n",
        "    'Actual MEDV':test.MEDV,\n",
        "    'Predicted MEDV':best_fit_model_test,\n",
        "    'Error':(test.MEDV-best_fit_model_test)\n",
        "})"
      ],
      "metadata": {
        "id": "_fyTLLQ1TqLU"
      },
      "execution_count": null,
      "outputs": []
    },
    {
      "cell_type": "code",
      "source": [
        "fig,ax1=plt.subplots()\n",
        "ax1.scatter(test['RM'],test['MEDV'],color='blue', marker='.')\n",
        "ax1.plot(best_fit_model_obs_test.RM,best_fit_model_test,c='r')\n",
        "ax1.set_title(\"Best_Fit_Model Testing\")\n",
        "plt.xlabel('RM')\n",
        "plt.ylabel(\"MEDV\")"
      ],
      "metadata": {
        "colab": {
          "base_uri": "https://localhost:8080/",
          "height": 313
        },
        "id": "_NJGxL3GUMLS",
        "outputId": "497179f4-bad9-4222-939e-41ea5866210e"
      },
      "execution_count": null,
      "outputs": [
        {
          "output_type": "execute_result",
          "data": {
            "text/plain": [
              "Text(0, 0.5, 'MEDV')"
            ]
          },
          "metadata": {},
          "execution_count": 68
        },
        {
          "output_type": "display_data",
          "data": {
            "text/plain": [
              "<Figure size 432x288 with 1 Axes>"
            ],
            "image/png": "[encoded data removed]"
          },
          "metadata": {
            "needs_background": "light"
          }
        }
      ]
    },
    {
      "cell_type": "code",
      "source": [
        "SSE_test = sum(best_fit_model_obs_test.Error**2)\n",
        "SSE_test"
      ],
      "metadata": {
        "colab": {
          "base_uri": "https://localhost:8080/"
        },
        "id": "V4pVi3YiWE79",
        "outputId": "03253d62-a2cb-455a-a5d1-f4063e2b9eeb"
      },
      "execution_count": null,
      "outputs": [
        {
          "output_type": "execute_result",
          "data": {
            "text/plain": [
              "6420.793883155772"
            ]
          },
          "metadata": {},
          "execution_count": 69
        }
      ]
    },
    {
      "cell_type": "code",
      "source": [
        "SST_test = sum((test.MEDV.mean() - test.MEDV)**2)\n",
        "SST_test"
      ],
      "metadata": {
        "colab": {
          "base_uri": "https://localhost:8080/"
        },
        "id": "-wRol1ttY-kW",
        "outputId": "cee34fe1-4432-497e-b018-42a6a0b63718"
      },
      "execution_count": null,
      "outputs": [
        {
          "output_type": "execute_result",
          "data": {
            "text/plain": [
              "13544.299041916163"
            ]
          },
          "metadata": {},
          "execution_count": 74
        }
      ]
    },
    {
      "cell_type": "code",
      "source": [
        "SSR_test = SST_test - SSE_test\n",
        "SSR_test"
      ],
      "metadata": {
        "colab": {
          "base_uri": "https://localhost:8080/"
        },
        "id": "DDxo8okmWSUL",
        "outputId": "a621b8a3-8258-42e3-a8db-7b264b89d49d"
      },
      "execution_count": null,
      "outputs": [
        {
          "output_type": "execute_result",
          "data": {
            "text/plain": [
              "7123.505158760391"
            ]
          },
          "metadata": {},
          "execution_count": 75
        }
      ]
    },
    {
      "cell_type": "code",
      "source": [
        "Rsq_test = SSR_test/SST_test\n",
        "Rsq_test"
      ],
      "metadata": {
        "colab": {
          "base_uri": "https://localhost:8080/"
        },
        "id": "l2Ho4qorXR26",
        "outputId": "ffc30da8-4308-44bf-826a-408aba09df7f"
      },
      "execution_count": null,
      "outputs": [
        {
          "output_type": "execute_result",
          "data": {
            "text/plain": [
              "0.525941219749723"
            ]
          },
          "metadata": {},
          "execution_count": 76
        }
      ]
    },
    {
      "cell_type": "code",
      "source": [
        ""
      ],
      "metadata": {
        "id": "PdrUjO2tZO3O"
      },
      "execution_count": null,
      "outputs": []
    },
    {
      "cell_type": "markdown",
      "source": [
        "Results"
      ],
      "metadata": {
        "id": "MPRSea_cZ6Lc"
      }
    },
    {
      "cell_type": "markdown",
      "source": [
        "![image.png](data:image/png;base64,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)"
      ],
      "metadata": {
        "id": "gI8lrjo2Z8n5"
      }
    }
  ]
}