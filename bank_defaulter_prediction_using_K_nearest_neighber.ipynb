{
  "nbformat": 4,
  "nbformat_minor": 0,
  "metadata": {
    "colab": {
      "name": "bank_defaulter_prediction_using_K-nearest_neighber.ipynb",
      "provenance": [],
      "mount_file_id": "18u3ieq3pKkR4bCeGTwP0_mVWtuhDA-bv",
      "authorship_tag": "ABX9TyOoPeEi9+Is8VaMVdCJGMcd",
      "include_colab_link": true
    },
    "kernelspec": {
      "name": "python3",
      "display_name": "Python 3"
    },
    "language_info": {
      "name": "python"
    }
  },
  "cells": [
    {
      "cell_type": "markdown",
      "metadata": {
        "id": "view-in-github",
        "colab_type": "text"
      },
      "source": [
        "<a href=\"https://colab.research.google.com/github/ankitkarmakar95/learnings/blob/main/bank_defaulter_prediction_using_K_nearest_neighber.ipynb\" target=\"_parent\"><img src=\"https://colab.research.google.com/assets/colab-badge.svg\" alt=\"Open In Colab\"/></a>"
      ]
    },
    {
      "cell_type": "code",
      "execution_count": 41,
      "metadata": {
        "id": "NPe8DzDDYbXk"
      },
      "outputs": [],
      "source": [
        "import pandas as pd\n",
        "import seaborn as sns\n",
        "import numpy as np\n",
        "from sklearn.preprocessing import MinMaxScaler\n",
        "from sklearn.model_selection import train_test_split\n",
        "from sklearn.neighbors import KNeighborsClassifier\n",
        "import matplotlib.pyplot as plt"
      ]
    },
    {
      "cell_type": "code",
      "source": [
        "#reading data from input csv file\n",
        "defaulter = pd.read_csv(\"/content/drive/MyDrive/Colab Notebooks/defaulter.csv\")\n",
        "defaulter\n"
      ],
      "metadata": {
        "colab": {
          "base_uri": "https://localhost:8080/",
          "height": 394
        },
        "id": "RCYDv7zWbV8W",
        "outputId": "9252fdfa-ebe1-4e6d-dd55-55af3e8d9c1a"
      },
      "execution_count": 4,
      "outputs": [
        {
          "output_type": "execute_result",
          "data": {
            "text/plain": [
              "   defaulter student    balance    income\n",
              "0         No     Yes   817.1804  12106.14\n",
              "1        Yes     Yes  1486.9980  17854.40\n",
              "2        Yes     Yes  1102.4350  17391.78\n",
              "3        Yes     Yes  1233.4460  12586.48\n",
              "4        Yes     Yes  1276.6850  19282.44\n",
              "5        Yes     Yes  1289.2460  13624.55\n",
              "6         No     Yes   673.8124  17672.29\n",
              "7         No      No   870.4124  17685.45\n",
              "8         No     Yes   903.1768  15810.57\n",
              "9         No     Yes   879.6270  14898.31\n",
              "10   unknown     Yes  1000.0000  16900.00"
            ],
            "text/html": [
              "\n",
              "  <div id=\"df-1e80f6ab-555a-45a8-87e3-1720f55f9621\">\n",
              "    <div class=\"colab-df-container\">\n",
              "      <div>\n",
              "<style scoped>\n",
              "    .dataframe tbody tr th:only-of-type {\n",
              "        vertical-align: middle;\n",
              "    }\n",
              "\n",
              "    .dataframe tbody tr th {\n",
              "        vertical-align: top;\n",
              "    }\n",
              "\n",
              "    .dataframe thead th {\n",
              "        text-align: right;\n",
              "    }\n",
              "</style>\n",
              "<table border=\"1\" class=\"dataframe\">\n",
              "  <thead>\n",
              "    <tr style=\"text-align: right;\">\n",
              "      <th></th>\n",
              "      <th>defaulter</th>\n",
              "      <th>student</th>\n",
              "      <th>balance</th>\n",
              "      <th>income</th>\n",
              "    </tr>\n",
              "  </thead>\n",
              "  <tbody>\n",
              "    <tr>\n",
              "      <th>0</th>\n",
              "      <td>No</td>\n",
              "      <td>Yes</td>\n",
              "      <td>817.1804</td>\n",
              "      <td>12106.14</td>\n",
              "    </tr>\n",
              "    <tr>\n",
              "      <th>1</th>\n",
              "      <td>Yes</td>\n",
              "      <td>Yes</td>\n",
              "      <td>1486.9980</td>\n",
              "      <td>17854.40</td>\n",
              "    </tr>\n",
              "    <tr>\n",
              "      <th>2</th>\n",
              "      <td>Yes</td>\n",
              "      <td>Yes</td>\n",
              "      <td>1102.4350</td>\n",
              "      <td>17391.78</td>\n",
              "    </tr>\n",
              "    <tr>\n",
              "      <th>3</th>\n",
              "      <td>Yes</td>\n",
              "      <td>Yes</td>\n",
              "      <td>1233.4460</td>\n",
              "      <td>12586.48</td>\n",
              "    </tr>\n",
              "    <tr>\n",
              "      <th>4</th>\n",
              "      <td>Yes</td>\n",
              "      <td>Yes</td>\n",
              "      <td>1276.6850</td>\n",
              "      <td>19282.44</td>\n",
              "    </tr>\n",
              "    <tr>\n",
              "      <th>5</th>\n",
              "      <td>Yes</td>\n",
              "      <td>Yes</td>\n",
              "      <td>1289.2460</td>\n",
              "      <td>13624.55</td>\n",
              "    </tr>\n",
              "    <tr>\n",
              "      <th>6</th>\n",
              "      <td>No</td>\n",
              "      <td>Yes</td>\n",
              "      <td>673.8124</td>\n",
              "      <td>17672.29</td>\n",
              "    </tr>\n",
              "    <tr>\n",
              "      <th>7</th>\n",
              "      <td>No</td>\n",
              "      <td>No</td>\n",
              "      <td>870.4124</td>\n",
              "      <td>17685.45</td>\n",
              "    </tr>\n",
              "    <tr>\n",
              "      <th>8</th>\n",
              "      <td>No</td>\n",
              "      <td>Yes</td>\n",
              "      <td>903.1768</td>\n",
              "      <td>15810.57</td>\n",
              "    </tr>\n",
              "    <tr>\n",
              "      <th>9</th>\n",
              "      <td>No</td>\n",
              "      <td>Yes</td>\n",
              "      <td>879.6270</td>\n",
              "      <td>14898.31</td>\n",
              "    </tr>\n",
              "    <tr>\n",
              "      <th>10</th>\n",
              "      <td>unknown</td>\n",
              "      <td>Yes</td>\n",
              "      <td>1000.0000</td>\n",
              "      <td>16900.00</td>\n",
              "    </tr>\n",
              "  </tbody>\n",
              "</table>\n",
              "</div>\n",
              "      <button class=\"colab-df-convert\" onclick=\"convertToInteractive('df-1e80f6ab-555a-45a8-87e3-1720f55f9621')\"\n",
              "              title=\"Convert this dataframe to an interactive table.\"\n",
              "              style=\"display:none;\">\n",
              "        \n",
              "  <svg xmlns=\"http://www.w3.org/2000/svg\" height=\"24px\"viewBox=\"0 0 24 24\"\n",
              "       width=\"24px\">\n",
              "    <path d=\"M0 0h24v24H0V0z\" fill=\"none\"/>\n",
              "    <path d=\"M18.56 5.44l.94 2.06.94-2.06 2.06-.94-2.06-.94-.94-2.06-.94 2.06-2.06.94zm-11 1L8.5 8.5l.94-2.06 2.06-.94-2.06-.94L8.5 2.5l-.94 2.06-2.06.94zm10 10l.94 2.06.94-2.06 2.06-.94-2.06-.94-.94-2.06-.94 2.06-2.06.94z\"/><path d=\"M17.41 7.96l-1.37-1.37c-.4-.4-.92-.59-1.43-.59-.52 0-1.04.2-1.43.59L10.3 9.45l-7.72 7.72c-.78.78-.78 2.05 0 2.83L4 21.41c.39.39.9.59 1.41.59.51 0 1.02-.2 1.41-.59l7.78-7.78 2.81-2.81c.8-.78.8-2.07 0-2.86zM5.41 20L4 18.59l7.72-7.72 1.47 1.35L5.41 20z\"/>\n",
              "  </svg>\n",
              "      </button>\n",
              "      \n",
              "  <style>\n",
              "    .colab-df-container {\n",
              "      display:flex;\n",
              "      flex-wrap:wrap;\n",
              "      gap: 12px;\n",
              "    }\n",
              "\n",
              "    .colab-df-convert {\n",
              "      background-color: #E8F0FE;\n",
              "      border: none;\n",
              "      border-radius: 50%;\n",
              "      cursor: pointer;\n",
              "      display: none;\n",
              "      fill: #1967D2;\n",
              "      height: 32px;\n",
              "      padding: 0 0 0 0;\n",
              "      width: 32px;\n",
              "    }\n",
              "\n",
              "    .colab-df-convert:hover {\n",
              "      background-color: #E2EBFA;\n",
              "      box-shadow: 0px 1px 2px rgba(60, 64, 67, 0.3), 0px 1px 3px 1px rgba(60, 64, 67, 0.15);\n",
              "      fill: #174EA6;\n",
              "    }\n",
              "\n",
              "    [theme=dark] .colab-df-convert {\n",
              "      background-color: #3B4455;\n",
              "      fill: #D2E3FC;\n",
              "    }\n",
              "\n",
              "    [theme=dark] .colab-df-convert:hover {\n",
              "      background-color: #434B5C;\n",
              "      box-shadow: 0px 1px 3px 1px rgba(0, 0, 0, 0.15);\n",
              "      filter: drop-shadow(0px 1px 2px rgba(0, 0, 0, 0.3));\n",
              "      fill: #FFFFFF;\n",
              "    }\n",
              "  </style>\n",
              "\n",
              "      <script>\n",
              "        const buttonEl =\n",
              "          document.querySelector('#df-1e80f6ab-555a-45a8-87e3-1720f55f9621 button.colab-df-convert');\n",
              "        buttonEl.style.display =\n",
              "          google.colab.kernel.accessAllowed ? 'block' : 'none';\n",
              "\n",
              "        async function convertToInteractive(key) {\n",
              "          const element = document.querySelector('#df-1e80f6ab-555a-45a8-87e3-1720f55f9621');\n",
              "          const dataTable =\n",
              "            await google.colab.kernel.invokeFunction('convertToInteractive',\n",
              "                                                     [key], {});\n",
              "          if (!dataTable) return;\n",
              "\n",
              "          const docLinkHtml = 'Like what you see? Visit the ' +\n",
              "            '<a target=\"_blank\" href=https://colab.research.google.com/notebooks/data_table.ipynb>data table notebook</a>'\n",
              "            + ' to learn more about interactive tables.';\n",
              "          element.innerHTML = '';\n",
              "          dataTable['output_type'] = 'display_data';\n",
              "          await google.colab.output.renderOutput(dataTable, element);\n",
              "          const docLink = document.createElement('div');\n",
              "          docLink.innerHTML = docLinkHtml;\n",
              "          element.appendChild(docLink);\n",
              "        }\n",
              "      </script>\n",
              "    </div>\n",
              "  </div>\n",
              "  "
            ]
          },
          "metadata": {},
          "execution_count": 4
        }
      ]
    },
    {
      "cell_type": "code",
      "source": [
        "sns.pairplot(defaulter,hue=\"defaulter\",\n",
        "             x_vars=\"income\",y_vars=\"balance\",height=5)"
      ],
      "metadata": {
        "colab": {
          "base_uri": "https://localhost:8080/",
          "height": 391
        },
        "id": "Kpi2mmDjbZVz",
        "outputId": "4b21db4f-eee0-4315-e5ea-01fba5722bb0"
      },
      "execution_count": 5,
      "outputs": [
        {
          "output_type": "execute_result",
          "data": {
            "text/plain": [
              "<seaborn.axisgrid.PairGrid at 0x7f3ae2bb9110>"
            ]
          },
          "metadata": {},
          "execution_count": 5
        },
        {
          "output_type": "display_data",
          "data": {
            "text/plain": [
              "<Figure size 441.375x360 with 1 Axes>"
            ],
            "image/png": "[encoded data removed]"
          },
          "metadata": {
            "needs_background": "light"
          }
        }
      ]
    },
    {
      "cell_type": "markdown",
      "source": [
        "Finding uclidian distance between two instances"
      ],
      "metadata": {
        "id": "QhuyXlB2S8_-"
      }
    },
    {
      "cell_type": "code",
      "source": [
        "x1 = defaulter.loc[9,[\"balance\",\"income\"]]\n",
        "x2 = defaulter.loc[1,[\"balance\",\"income\"]]\n",
        "np.linalg.norm(x1-x2)"
      ],
      "metadata": {
        "id": "5oO3Z3t8bkHQ",
        "colab": {
          "base_uri": "https://localhost:8080/"
        },
        "outputId": "87d16ee5-b64e-4205-ccee-2af30dc8a225"
      },
      "execution_count": 8,
      "outputs": [
        {
          "output_type": "execute_result",
          "data": {
            "text/plain": [
              "3017.8415498069166"
            ]
          },
          "metadata": {},
          "execution_count": 8
        }
      ]
    },
    {
      "cell_type": "markdown",
      "source": [
        "as, one of the attribute may have very high value, then the other attributes will loose their significance. So we need to always normalise the value set. Although it is a good practice to have normalizasion of data sets before running any machine learning algorithms.\n",
        "There are so many methods for this in sklearn.preprocessing"
      ],
      "metadata": {
        "id": "eU89QfT2TsP0"
      }
    },
    {
      "cell_type": "code",
      "source": [
        "scaler = MinMaxScaler()\n",
        "scaled_values = scaler.fit_transform(defaulter[[\"balance\",\"income\"]])\n",
        "defaulter[\"norm_balance\"] = scaled_values[:,0]\n",
        "defaulter[\"norm_income\"] = scaled_values[:,1]\n",
        "defaulter"
      ],
      "metadata": {
        "colab": {
          "base_uri": "https://localhost:8080/",
          "height": 394
        },
        "id": "V0SOmd5mWF-Y",
        "outputId": "f5c1a121-1dba-400a-bd2e-b10fe4626835"
      },
      "execution_count": 10,
      "outputs": [
        {
          "output_type": "execute_result",
          "data": {
            "text/plain": [
              "   defaulter student    balance    income  norm_balance  norm_income\n",
              "0         No     Yes   817.1804  12106.14      0.176304     0.000000\n",
              "1        Yes     Yes  1486.9980  17854.40      1.000000     0.801006\n",
              "2        Yes     Yes  1102.4350  17391.78      0.527091     0.736541\n",
              "3        Yes     Yes  1233.4460  12586.48      0.688199     0.066934\n",
              "4        Yes     Yes  1276.6850  19282.44      0.741371     1.000000\n",
              "5        Yes     Yes  1289.2460  13624.55      0.756818     0.211587\n",
              "6         No     Yes   673.8124  17672.29      0.000000     0.775630\n",
              "7         No      No   870.4124  17685.45      0.241765     0.777463\n",
              "8         No     Yes   903.1768  15810.57      0.282057     0.516203\n",
              "9         No     Yes   879.6270  14898.31      0.253097     0.389082\n",
              "10   unknown     Yes  1000.0000  16900.00      0.401123     0.668013"
            ],
            "text/html": [
              "\n",
              "  <div id=\"df-5035c5af-0136-45d0-b755-7f9aace4aa5b\">\n",
              "    <div class=\"colab-df-container\">\n",
              "      <div>\n",
              "<style scoped>\n",
              "    .dataframe tbody tr th:only-of-type {\n",
              "        vertical-align: middle;\n",
              "    }\n",
              "\n",
              "    .dataframe tbody tr th {\n",
              "        vertical-align: top;\n",
              "    }\n",
              "\n",
              "    .dataframe thead th {\n",
              "        text-align: right;\n",
              "    }\n",
              "</style>\n",
              "<table border=\"1\" class=\"dataframe\">\n",
              "  <thead>\n",
              "    <tr style=\"text-align: right;\">\n",
              "      <th></th>\n",
              "      <th>defaulter</th>\n",
              "      <th>student</th>\n",
              "      <th>balance</th>\n",
              "      <th>income</th>\n",
              "      <th>norm_balance</th>\n",
              "      <th>norm_income</th>\n",
              "    </tr>\n",
              "  </thead>\n",
              "  <tbody>\n",
              "    <tr>\n",
              "      <th>0</th>\n",
              "      <td>No</td>\n",
              "      <td>Yes</td>\n",
              "      <td>817.1804</td>\n",
              "      <td>12106.14</td>\n",
              "      <td>0.176304</td>\n",
              "      <td>0.000000</td>\n",
              "    </tr>\n",
              "    <tr>\n",
              "      <th>1</th>\n",
              "      <td>Yes</td>\n",
              "      <td>Yes</td>\n",
              "      <td>1486.9980</td>\n",
              "      <td>17854.40</td>\n",
              "      <td>1.000000</td>\n",
              "      <td>0.801006</td>\n",
              "    </tr>\n",
              "    <tr>\n",
              "      <th>2</th>\n",
              "      <td>Yes</td>\n",
              "      <td>Yes</td>\n",
              "      <td>1102.4350</td>\n",
              "      <td>17391.78</td>\n",
              "      <td>0.527091</td>\n",
              "      <td>0.736541</td>\n",
              "    </tr>\n",
              "    <tr>\n",
              "      <th>3</th>\n",
              "      <td>Yes</td>\n",
              "      <td>Yes</td>\n",
              "      <td>1233.4460</td>\n",
              "      <td>12586.48</td>\n",
              "      <td>0.688199</td>\n",
              "      <td>0.066934</td>\n",
              "    </tr>\n",
              "    <tr>\n",
              "      <th>4</th>\n",
              "      <td>Yes</td>\n",
              "      <td>Yes</td>\n",
              "      <td>1276.6850</td>\n",
              "      <td>19282.44</td>\n",
              "      <td>0.741371</td>\n",
              "      <td>1.000000</td>\n",
              "    </tr>\n",
              "    <tr>\n",
              "      <th>5</th>\n",
              "      <td>Yes</td>\n",
              "      <td>Yes</td>\n",
              "      <td>1289.2460</td>\n",
              "      <td>13624.55</td>\n",
              "      <td>0.756818</td>\n",
              "      <td>0.211587</td>\n",
              "    </tr>\n",
              "    <tr>\n",
              "      <th>6</th>\n",
              "      <td>No</td>\n",
              "      <td>Yes</td>\n",
              "      <td>673.8124</td>\n",
              "      <td>17672.29</td>\n",
              "      <td>0.000000</td>\n",
              "      <td>0.775630</td>\n",
              "    </tr>\n",
              "    <tr>\n",
              "      <th>7</th>\n",
              "      <td>No</td>\n",
              "      <td>No</td>\n",
              "      <td>870.4124</td>\n",
              "      <td>17685.45</td>\n",
              "      <td>0.241765</td>\n",
              "      <td>0.777463</td>\n",
              "    </tr>\n",
              "    <tr>\n",
              "      <th>8</th>\n",
              "      <td>No</td>\n",
              "      <td>Yes</td>\n",
              "      <td>903.1768</td>\n",
              "      <td>15810.57</td>\n",
              "      <td>0.282057</td>\n",
              "      <td>0.516203</td>\n",
              "    </tr>\n",
              "    <tr>\n",
              "      <th>9</th>\n",
              "      <td>No</td>\n",
              "      <td>Yes</td>\n",
              "      <td>879.6270</td>\n",
              "      <td>14898.31</td>\n",
              "      <td>0.253097</td>\n",
              "      <td>0.389082</td>\n",
              "    </tr>\n",
              "    <tr>\n",
              "      <th>10</th>\n",
              "      <td>unknown</td>\n",
              "      <td>Yes</td>\n",
              "      <td>1000.0000</td>\n",
              "      <td>16900.00</td>\n",
              "      <td>0.401123</td>\n",
              "      <td>0.668013</td>\n",
              "    </tr>\n",
              "  </tbody>\n",
              "</table>\n",
              "</div>\n",
              "      <button class=\"colab-df-convert\" onclick=\"convertToInteractive('df-5035c5af-0136-45d0-b755-7f9aace4aa5b')\"\n",
              "              title=\"Convert this dataframe to an interactive table.\"\n",
              "              style=\"display:none;\">\n",
              "        \n",
              "  <svg xmlns=\"http://www.w3.org/2000/svg\" height=\"24px\"viewBox=\"0 0 24 24\"\n",
              "       width=\"24px\">\n",
              "    <path d=\"M0 0h24v24H0V0z\" fill=\"none\"/>\n",
              "    <path d=\"M18.56 5.44l.94 2.06.94-2.06 2.06-.94-2.06-.94-.94-2.06-.94 2.06-2.06.94zm-11 1L8.5 8.5l.94-2.06 2.06-.94-2.06-.94L8.5 2.5l-.94 2.06-2.06.94zm10 10l.94 2.06.94-2.06 2.06-.94-2.06-.94-.94-2.06-.94 2.06-2.06.94z\"/><path d=\"M17.41 7.96l-1.37-1.37c-.4-.4-.92-.59-1.43-.59-.52 0-1.04.2-1.43.59L10.3 9.45l-7.72 7.72c-.78.78-.78 2.05 0 2.83L4 21.41c.39.39.9.59 1.41.59.51 0 1.02-.2 1.41-.59l7.78-7.78 2.81-2.81c.8-.78.8-2.07 0-2.86zM5.41 20L4 18.59l7.72-7.72 1.47 1.35L5.41 20z\"/>\n",
              "  </svg>\n",
              "      </button>\n",
              "      \n",
              "  <style>\n",
              "    .colab-df-container {\n",
              "      display:flex;\n",
              "      flex-wrap:wrap;\n",
              "      gap: 12px;\n",
              "    }\n",
              "\n",
              "    .colab-df-convert {\n",
              "      background-color: #E8F0FE;\n",
              "      border: none;\n",
              "      border-radius: 50%;\n",
              "      cursor: pointer;\n",
              "      display: none;\n",
              "      fill: #1967D2;\n",
              "      height: 32px;\n",
              "      padding: 0 0 0 0;\n",
              "      width: 32px;\n",
              "    }\n",
              "\n",
              "    .colab-df-convert:hover {\n",
              "      background-color: #E2EBFA;\n",
              "      box-shadow: 0px 1px 2px rgba(60, 64, 67, 0.3), 0px 1px 3px 1px rgba(60, 64, 67, 0.15);\n",
              "      fill: #174EA6;\n",
              "    }\n",
              "\n",
              "    [theme=dark] .colab-df-convert {\n",
              "      background-color: #3B4455;\n",
              "      fill: #D2E3FC;\n",
              "    }\n",
              "\n",
              "    [theme=dark] .colab-df-convert:hover {\n",
              "      background-color: #434B5C;\n",
              "      box-shadow: 0px 1px 3px 1px rgba(0, 0, 0, 0.15);\n",
              "      filter: drop-shadow(0px 1px 2px rgba(0, 0, 0, 0.3));\n",
              "      fill: #FFFFFF;\n",
              "    }\n",
              "  </style>\n",
              "\n",
              "      <script>\n",
              "        const buttonEl =\n",
              "          document.querySelector('#df-5035c5af-0136-45d0-b755-7f9aace4aa5b button.colab-df-convert');\n",
              "        buttonEl.style.display =\n",
              "          google.colab.kernel.accessAllowed ? 'block' : 'none';\n",
              "\n",
              "        async function convertToInteractive(key) {\n",
              "          const element = document.querySelector('#df-5035c5af-0136-45d0-b755-7f9aace4aa5b');\n",
              "          const dataTable =\n",
              "            await google.colab.kernel.invokeFunction('convertToInteractive',\n",
              "                                                     [key], {});\n",
              "          if (!dataTable) return;\n",
              "\n",
              "          const docLinkHtml = 'Like what you see? Visit the ' +\n",
              "            '<a target=\"_blank\" href=https://colab.research.google.com/notebooks/data_table.ipynb>data table notebook</a>'\n",
              "            + ' to learn more about interactive tables.';\n",
              "          element.innerHTML = '';\n",
              "          dataTable['output_type'] = 'display_data';\n",
              "          await google.colab.output.renderOutput(dataTable, element);\n",
              "          const docLink = document.createElement('div');\n",
              "          docLink.innerHTML = docLinkHtml;\n",
              "          element.appendChild(docLink);\n",
              "        }\n",
              "      </script>\n",
              "    </div>\n",
              "  </div>\n",
              "  "
            ]
          },
          "metadata": {},
          "execution_count": 10
        }
      ]
    },
    {
      "cell_type": "code",
      "source": [
        "x1_n = defaulter.loc[0,[\"norm_balance\",\"norm_income\"]]\n",
        "x2_n = defaulter.loc[1,[\"norm_balance\",\"norm_income\"]]\n",
        "np.linalg.norm(x1_n-x2_n)"
      ],
      "metadata": {
        "colab": {
          "base_uri": "https://localhost:8080/"
        },
        "id": "naUwt_bUY-o8",
        "outputId": "e9348caf-1876-47e4-ee93-cba18d17443e"
      },
      "execution_count": 23,
      "outputs": [
        {
          "output_type": "execute_result",
          "data": {
            "text/plain": [
              "1.1489497815843788"
            ]
          },
          "metadata": {},
          "execution_count": 23
        }
      ]
    },
    {
      "cell_type": "code",
      "source": [
        "x11 = defaulter.loc[10,[\"norm_balance\",\"norm_income\"]] \n",
        "dist_to_X11 = lambda x: np.linalg.norm(x-x11)"
      ],
      "metadata": {
        "id": "8hhMBoGWoyHp"
      },
      "execution_count": 24,
      "outputs": []
    },
    {
      "cell_type": "code",
      "source": [
        "defaulter[\"dist_toX11\"] = defaulter[[\"norm_balance\",\"norm_income\"]].apply(dist_to_X11,axis=1)"
      ],
      "metadata": {
        "id": "z-hw06bQo2QK"
      },
      "execution_count": 30,
      "outputs": []
    },
    {
      "cell_type": "code",
      "source": [
        "defaulter.sort_values(\"dist_toX11\")"
      ],
      "metadata": {
        "colab": {
          "base_uri": "https://localhost:8080/",
          "height": 394
        },
        "id": "V4aTKjJSpQKl",
        "outputId": "f540dfcb-bb8f-4b11-e2fd-251acfd7341a"
      },
      "execution_count": 31,
      "outputs": [
        {
          "output_type": "execute_result",
          "data": {
            "text/plain": [
              "   defaulter student    balance    income  norm_balance  norm_income  \\\n",
              "10   unknown     Yes  1000.0000  16900.00      0.401123     0.668013   \n",
              "2        Yes     Yes  1102.4350  17391.78      0.527091     0.736541   \n",
              "8         No     Yes   903.1768  15810.57      0.282057     0.516203   \n",
              "7         No      No   870.4124  17685.45      0.241765     0.777463   \n",
              "9         No     Yes   879.6270  14898.31      0.253097     0.389082   \n",
              "6         No     Yes   673.8124  17672.29      0.000000     0.775630   \n",
              "4        Yes     Yes  1276.6850  19282.44      0.741371     1.000000   \n",
              "5        Yes     Yes  1289.2460  13624.55      0.756818     0.211587   \n",
              "1        Yes     Yes  1486.9980  17854.40      1.000000     0.801006   \n",
              "3        Yes     Yes  1233.4460  12586.48      0.688199     0.066934   \n",
              "0         No     Yes   817.1804  12106.14      0.176304     0.000000   \n",
              "\n",
              "    dist_toX11  \n",
              "10    0.000000  \n",
              "2     0.143401  \n",
              "8     0.192932  \n",
              "7     0.193325  \n",
              "9     0.315775  \n",
              "6     0.415309  \n",
              "4     0.475378  \n",
              "5     0.578657  \n",
              "1     0.613466  \n",
              "3     0.666114  \n",
              "0     0.704830  "
            ],
            "text/html": [
              "\n",
              "  <div id=\"df-84ee4f38-4366-4698-8863-e110a7418c1f\">\n",
              "    <div class=\"colab-df-container\">\n",
              "      <div>\n",
              "<style scoped>\n",
              "    .dataframe tbody tr th:only-of-type {\n",
              "        vertical-align: middle;\n",
              "    }\n",
              "\n",
              "    .dataframe tbody tr th {\n",
              "        vertical-align: top;\n",
              "    }\n",
              "\n",
              "    .dataframe thead th {\n",
              "        text-align: right;\n",
              "    }\n",
              "</style>\n",
              "<table border=\"1\" class=\"dataframe\">\n",
              "  <thead>\n",
              "    <tr style=\"text-align: right;\">\n",
              "      <th></th>\n",
              "      <th>defaulter</th>\n",
              "      <th>student</th>\n",
              "      <th>balance</th>\n",
              "      <th>income</th>\n",
              "      <th>norm_balance</th>\n",
              "      <th>norm_income</th>\n",
              "      <th>dist_toX11</th>\n",
              "    </tr>\n",
              "  </thead>\n",
              "  <tbody>\n",
              "    <tr>\n",
              "      <th>10</th>\n",
              "      <td>unknown</td>\n",
              "      <td>Yes</td>\n",
              "      <td>1000.0000</td>\n",
              "      <td>16900.00</td>\n",
              "      <td>0.401123</td>\n",
              "      <td>0.668013</td>\n",
              "      <td>0.000000</td>\n",
              "    </tr>\n",
              "    <tr>\n",
              "      <th>2</th>\n",
              "      <td>Yes</td>\n",
              "      <td>Yes</td>\n",
              "      <td>1102.4350</td>\n",
              "      <td>17391.78</td>\n",
              "      <td>0.527091</td>\n",
              "      <td>0.736541</td>\n",
              "      <td>0.143401</td>\n",
              "    </tr>\n",
              "    <tr>\n",
              "      <th>8</th>\n",
              "      <td>No</td>\n",
              "      <td>Yes</td>\n",
              "      <td>903.1768</td>\n",
              "      <td>15810.57</td>\n",
              "      <td>0.282057</td>\n",
              "      <td>0.516203</td>\n",
              "      <td>0.192932</td>\n",
              "    </tr>\n",
              "    <tr>\n",
              "      <th>7</th>\n",
              "      <td>No</td>\n",
              "      <td>No</td>\n",
              "      <td>870.4124</td>\n",
              "      <td>17685.45</td>\n",
              "      <td>0.241765</td>\n",
              "      <td>0.777463</td>\n",
              "      <td>0.193325</td>\n",
              "    </tr>\n",
              "    <tr>\n",
              "      <th>9</th>\n",
              "      <td>No</td>\n",
              "      <td>Yes</td>\n",
              "      <td>879.6270</td>\n",
              "      <td>14898.31</td>\n",
              "      <td>0.253097</td>\n",
              "      <td>0.389082</td>\n",
              "      <td>0.315775</td>\n",
              "    </tr>\n",
              "    <tr>\n",
              "      <th>6</th>\n",
              "      <td>No</td>\n",
              "      <td>Yes</td>\n",
              "      <td>673.8124</td>\n",
              "      <td>17672.29</td>\n",
              "      <td>0.000000</td>\n",
              "      <td>0.775630</td>\n",
              "      <td>0.415309</td>\n",
              "    </tr>\n",
              "    <tr>\n",
              "      <th>4</th>\n",
              "      <td>Yes</td>\n",
              "      <td>Yes</td>\n",
              "      <td>1276.6850</td>\n",
              "      <td>19282.44</td>\n",
              "      <td>0.741371</td>\n",
              "      <td>1.000000</td>\n",
              "      <td>0.475378</td>\n",
              "    </tr>\n",
              "    <tr>\n",
              "      <th>5</th>\n",
              "      <td>Yes</td>\n",
              "      <td>Yes</td>\n",
              "      <td>1289.2460</td>\n",
              "      <td>13624.55</td>\n",
              "      <td>0.756818</td>\n",
              "      <td>0.211587</td>\n",
              "      <td>0.578657</td>\n",
              "    </tr>\n",
              "    <tr>\n",
              "      <th>1</th>\n",
              "      <td>Yes</td>\n",
              "      <td>Yes</td>\n",
              "      <td>1486.9980</td>\n",
              "      <td>17854.40</td>\n",
              "      <td>1.000000</td>\n",
              "      <td>0.801006</td>\n",
              "      <td>0.613466</td>\n",
              "    </tr>\n",
              "    <tr>\n",
              "      <th>3</th>\n",
              "      <td>Yes</td>\n",
              "      <td>Yes</td>\n",
              "      <td>1233.4460</td>\n",
              "      <td>12586.48</td>\n",
              "      <td>0.688199</td>\n",
              "      <td>0.066934</td>\n",
              "      <td>0.666114</td>\n",
              "    </tr>\n",
              "    <tr>\n",
              "      <th>0</th>\n",
              "      <td>No</td>\n",
              "      <td>Yes</td>\n",
              "      <td>817.1804</td>\n",
              "      <td>12106.14</td>\n",
              "      <td>0.176304</td>\n",
              "      <td>0.000000</td>\n",
              "      <td>0.704830</td>\n",
              "    </tr>\n",
              "  </tbody>\n",
              "</table>\n",
              "</div>\n",
              "      <button class=\"colab-df-convert\" onclick=\"convertToInteractive('df-84ee4f38-4366-4698-8863-e110a7418c1f')\"\n",
              "              title=\"Convert this dataframe to an interactive table.\"\n",
              "              style=\"display:none;\">\n",
              "        \n",
              "  <svg xmlns=\"http://www.w3.org/2000/svg\" height=\"24px\"viewBox=\"0 0 24 24\"\n",
              "       width=\"24px\">\n",
              "    <path d=\"M0 0h24v24H0V0z\" fill=\"none\"/>\n",
              "    <path d=\"M18.56 5.44l.94 2.06.94-2.06 2.06-.94-2.06-.94-.94-2.06-.94 2.06-2.06.94zm-11 1L8.5 8.5l.94-2.06 2.06-.94-2.06-.94L8.5 2.5l-.94 2.06-2.06.94zm10 10l.94 2.06.94-2.06 2.06-.94-2.06-.94-.94-2.06-.94 2.06-2.06.94z\"/><path d=\"M17.41 7.96l-1.37-1.37c-.4-.4-.92-.59-1.43-.59-.52 0-1.04.2-1.43.59L10.3 9.45l-7.72 7.72c-.78.78-.78 2.05 0 2.83L4 21.41c.39.39.9.59 1.41.59.51 0 1.02-.2 1.41-.59l7.78-7.78 2.81-2.81c.8-.78.8-2.07 0-2.86zM5.41 20L4 18.59l7.72-7.72 1.47 1.35L5.41 20z\"/>\n",
              "  </svg>\n",
              "      </button>\n",
              "      \n",
              "  <style>\n",
              "    .colab-df-container {\n",
              "      display:flex;\n",
              "      flex-wrap:wrap;\n",
              "      gap: 12px;\n",
              "    }\n",
              "\n",
              "    .colab-df-convert {\n",
              "      background-color: #E8F0FE;\n",
              "      border: none;\n",
              "      border-radius: 50%;\n",
              "      cursor: pointer;\n",
              "      display: none;\n",
              "      fill: #1967D2;\n",
              "      height: 32px;\n",
              "      padding: 0 0 0 0;\n",
              "      width: 32px;\n",
              "    }\n",
              "\n",
              "    .colab-df-convert:hover {\n",
              "      background-color: #E2EBFA;\n",
              "      box-shadow: 0px 1px 2px rgba(60, 64, 67, 0.3), 0px 1px 3px 1px rgba(60, 64, 67, 0.15);\n",
              "      fill: #174EA6;\n",
              "    }\n",
              "\n",
              "    [theme=dark] .colab-df-convert {\n",
              "      background-color: #3B4455;\n",
              "      fill: #D2E3FC;\n",
              "    }\n",
              "\n",
              "    [theme=dark] .colab-df-convert:hover {\n",
              "      background-color: #434B5C;\n",
              "      box-shadow: 0px 1px 3px 1px rgba(0, 0, 0, 0.15);\n",
              "      filter: drop-shadow(0px 1px 2px rgba(0, 0, 0, 0.3));\n",
              "      fill: #FFFFFF;\n",
              "    }\n",
              "  </style>\n",
              "\n",
              "      <script>\n",
              "        const buttonEl =\n",
              "          document.querySelector('#df-84ee4f38-4366-4698-8863-e110a7418c1f button.colab-df-convert');\n",
              "        buttonEl.style.display =\n",
              "          google.colab.kernel.accessAllowed ? 'block' : 'none';\n",
              "\n",
              "        async function convertToInteractive(key) {\n",
              "          const element = document.querySelector('#df-84ee4f38-4366-4698-8863-e110a7418c1f');\n",
              "          const dataTable =\n",
              "            await google.colab.kernel.invokeFunction('convertToInteractive',\n",
              "                                                     [key], {});\n",
              "          if (!dataTable) return;\n",
              "\n",
              "          const docLinkHtml = 'Like what you see? Visit the ' +\n",
              "            '<a target=\"_blank\" href=https://colab.research.google.com/notebooks/data_table.ipynb>data table notebook</a>'\n",
              "            + ' to learn more about interactive tables.';\n",
              "          element.innerHTML = '';\n",
              "          dataTable['output_type'] = 'display_data';\n",
              "          await google.colab.output.renderOutput(dataTable, element);\n",
              "          const docLink = document.createElement('div');\n",
              "          docLink.innerHTML = docLinkHtml;\n",
              "          element.appendChild(docLink);\n",
              "        }\n",
              "      </script>\n",
              "    </div>\n",
              "  </div>\n",
              "  "
            ]
          },
          "metadata": {},
          "execution_count": 31
        }
      ]
    },
    {
      "cell_type": "markdown",
      "source": [
        "Recall that the kNN algorithm identifies the k nearest neighbors of a new tuple and assigns it a class label based on the class labels of its nearest neighbors. \n",
        "\n",
        "Let us consider the value of k as 1, which means that, the kNN algorithm assigns a class label based on its nearest neighbor. The kNN algorithm would therefore classify the tuple X11 as default= Yes based on its nearest neighbor X3 (tuple at index 2) since the nearest neighbor (X3) has a class label of default=Yes."
      ],
      "metadata": {
        "id": "XzD2sMvzqKLX"
      }
    },
    {
      "cell_type": "markdown",
      "source": [
        "For all values of k greater than 1, a data tuple is classified by a majority vote of its neighbors. The tuple will be assigned the class that is most common among its k nearest neighbors.\n",
        "\n",
        "If the value of k was selected as 3, the 3-nearest-neighbors of the data tuple X11 (balance=1000, income=16900) are identified. In this case they are X3 (balance=1102.435, income=17391.78, defaulter=Yes), X9(balance=903.1768, income=15810.57, defaulter=No) and X8(balance=870.4124, income=17685.45, defaulter=No) based on the Euclidean distances computed earlier.\n",
        "\n",
        "The new tuple would be classified as defaulter/non-defaulter based on the majority vote of the neighbors X3, X9 and X8. In this case, the majority vote indicates that the new tuple (X11) would be a non-defaulter."
      ],
      "metadata": {
        "id": "vaUgKBuOq3t0"
      }
    },
    {
      "cell_type": "markdown",
      "source": [
        "***building one model using sklearn***"
      ],
      "metadata": {
        "id": "VIn5vUsNrNWT"
      }
    },
    {
      "cell_type": "code",
      "source": [
        "X=defaulter[['norm_balance','norm_income']]\n",
        "Y=defaulter['defaulter']"
      ],
      "metadata": {
        "id": "bDBezrr6rTo3"
      },
      "execution_count": 33,
      "outputs": []
    },
    {
      "cell_type": "code",
      "source": [
        "X_train,X_test,Y_train,Y_test = train_test_split(X,Y,test_size=0.2,random_state=100)"
      ],
      "metadata": {
        "id": "jiHGF8X6rd4m"
      },
      "execution_count": 34,
      "outputs": []
    },
    {
      "cell_type": "code",
      "source": [
        "model = KNeighborsClassifier(n_neighbors=3,metric=\"euclidean\")\n",
        "model.fit(X_train,Y_train)"
      ],
      "metadata": {
        "colab": {
          "base_uri": "https://localhost:8080/"
        },
        "id": "ZvUKeZagrg_d",
        "outputId": "417f4e46-a871-46a7-8208-401a78109618"
      },
      "execution_count": 36,
      "outputs": [
        {
          "output_type": "execute_result",
          "data": {
            "text/plain": [
              "KNeighborsClassifier(metric='euclidean', n_neighbors=3)"
            ]
          },
          "metadata": {},
          "execution_count": 36
        }
      ]
    },
    {
      "cell_type": "code",
      "source": [
        "train_accuracy = model.score(X_train,Y_train)\n",
        "test_accuracy = model.score(X_test,Y_test)\n",
        "print(train_accuracy,test_accuracy)"
      ],
      "metadata": {
        "colab": {
          "base_uri": "https://localhost:8080/"
        },
        "id": "wP-C79Spr4rz",
        "outputId": "70cfa62a-768a-4feb-b696-4227670b30ba"
      },
      "execution_count": 37,
      "outputs": [
        {
          "output_type": "stream",
          "name": "stdout",
          "text": [
            "0.75 1.0\n"
          ]
        }
      ]
    },
    {
      "cell_type": "code",
      "source": [
        "train_accuracies = []\n",
        "test_accuracies = []\n",
        "# building KNN model for values of k from 1 to 100\n",
        "k_vals = [i for i in range(1,9)]\n",
        "features = [\"norm_balance\",\"norm_income\"]\n",
        "target = \"defaulter\"\n",
        "for k in k_vals:\n",
        "    model = KNeighborsClassifier(n_neighbors=k,metric='euclidean')\n",
        "    model.fit(X_train,Y_train)\n",
        "    train_accuracy_k = model.score(X_train,Y_train)\n",
        "    test_accuracy_k = model.score(X_test,Y_test)\n",
        "    train_accuracies.append(train_accuracy_k)\n",
        "    test_accuracies.append(test_accuracy_k)\n",
        "plt.plot(k_vals,train_accuracies)\n",
        "plt.plot(k_vals,test_accuracies)\n"
      ],
      "metadata": {
        "colab": {
          "base_uri": "https://localhost:8080/",
          "height": 282
        },
        "id": "iWM9kvOWr9Zh",
        "outputId": "0bbfec56-0f7b-4356-cbfc-a238f4caa453"
      },
      "execution_count": 42,
      "outputs": [
        {
          "output_type": "execute_result",
          "data": {
            "text/plain": [
              "[<matplotlib.lines.Line2D at 0x7f3adcde4350>]"
            ]
          },
          "metadata": {},
          "execution_count": 42
        },
        {
          "output_type": "display_data",
          "data": {
            "text/plain": [
              "<Figure size 432x288 with 1 Axes>"
            ],
            "image/png": "[encoded data removed]"
          },
          "metadata": {
            "needs_background": "light"
          }
        }
      ]
    },
    {
      "cell_type": "code",
      "source": [
        "model = KNeighborsClassifier(n_neighbors=3,metric=\"euclidean\")\n",
        "model.fit(X_train,Y_train)\n"
      ],
      "metadata": {
        "colab": {
          "base_uri": "https://localhost:8080/"
        },
        "id": "FB3YQDOutDf8",
        "outputId": "063af244-7df8-4fe5-f1a4-4ef3a714ec7e"
      },
      "execution_count": 56,
      "outputs": [
        {
          "output_type": "execute_result",
          "data": {
            "text/plain": [
              "KNeighborsClassifier(metric='euclidean', n_neighbors=3)"
            ]
          },
          "metadata": {},
          "execution_count": 56
        }
      ]
    },
    {
      "cell_type": "markdown",
      "source": [
        "# ***Predicting some cases***"
      ],
      "metadata": {
        "id": "v69L1US_w09F"
      }
    },
    {
      "cell_type": "code",
      "source": [
        "model.predict(X=[[0.25,0.38]])"
      ],
      "metadata": {
        "colab": {
          "base_uri": "https://localhost:8080/"
        },
        "id": "vgchmfaYvmEX",
        "outputId": "6c4fb0d8-e4b2-41d1-8a18-917f3fedf406"
      },
      "execution_count": 54,
      "outputs": [
        {
          "output_type": "stream",
          "name": "stderr",
          "text": [
            "/usr/local/lib/python3.7/dist-packages/sklearn/base.py:451: UserWarning: X does not have valid feature names, but KNeighborsClassifier was fitted with feature names\n",
            "  \"X does not have valid feature names, but\"\n"
          ]
        },
        {
          "output_type": "execute_result",
          "data": {
            "text/plain": [
              "array(['No'], dtype=object)"
            ]
          },
          "metadata": {},
          "execution_count": 54
        }
      ]
    },
    {
      "cell_type": "code",
      "source": [
        "model.predict(X=[[0.78,0.22]])"
      ],
      "metadata": {
        "colab": {
          "base_uri": "https://localhost:8080/"
        },
        "id": "MCFK4ULwwvY2",
        "outputId": "87ce66c1-8422-42da-8565-576edef2a699"
      },
      "execution_count": 55,
      "outputs": [
        {
          "output_type": "stream",
          "name": "stderr",
          "text": [
            "/usr/local/lib/python3.7/dist-packages/sklearn/base.py:451: UserWarning: X does not have valid feature names, but KNeighborsClassifier was fitted with feature names\n",
            "  \"X does not have valid feature names, but\"\n"
          ]
        },
        {
          "output_type": "execute_result",
          "data": {
            "text/plain": [
              "array(['Yes'], dtype=object)"
            ]
          },
          "metadata": {},
          "execution_count": 55
        }
      ]
    },
    {
      "cell_type": "code",
      "source": [
        ""
      ],
      "metadata": {
        "id": "D3e6tGiWwx1S"
      },
      "execution_count": null,
      "outputs": []
    }
  ]
}