{
 "cells": [
  {
   "cell_type": "markdown",
   "id": "a4be6292",
   "metadata": {},
   "source": [
    "# Annual sales data of a popular supermarket is to be analysed here"
   ]
  },
  {
   "cell_type": "markdown",
   "id": "c471b97b",
   "metadata": {},
   "source": [
    "Objective of the analysis:\n",
    "\n",
    "1. Getting Insights to make data-driven business decisions. \n",
    "2. Usage of Machine learning to build predictive models.\n",
    "3. Usage of Evaluation metrics to evaluate the performance of the model\n"
   ]
  },
  {
   "cell_type": "markdown",
   "id": "556461e6",
   "metadata": {},
   "source": [
    "The store is known as 'Megastore'"
   ]
  },
  {
   "cell_type": "code",
   "execution_count": 41,
   "id": "b8b69e38",
   "metadata": {},
   "outputs": [],
   "source": [
    "import numpy as np\n",
    "import matplotlib.pyplot as plt\n",
    "import seaborn as sns"
   ]
  },
  {
   "cell_type": "code",
   "execution_count": 42,
   "id": "545f66fa",
   "metadata": {},
   "outputs": [],
   "source": [
    "from sklearn.model_selection import train_test_split\n",
    "from sklearn.linear_model import LinearRegression"
   ]
  },
  {
   "cell_type": "code",
   "execution_count": 43,
   "id": "583aa8ea",
   "metadata": {},
   "outputs": [],
   "source": [
    "from sklearn.preprocessing import StandardScaler"
   ]
  },
  {
   "cell_type": "code",
   "execution_count": 44,
   "id": "58ad5b4d",
   "metadata": {},
   "outputs": [],
   "source": [
    "from sklearn.metrics import mean_squared_error"
   ]
  },
  {
   "cell_type": "code",
   "execution_count": 45,
   "id": "17b2bb46",
   "metadata": {},
   "outputs": [],
   "source": [
    "import pandas as pd"
   ]
  },
  {
   "cell_type": "code",
   "execution_count": 46,
   "id": "129775bc",
   "metadata": {},
   "outputs": [],
   "source": [
    "mega=pd.read_csv('Megastore.csv')"
   ]
  },
  {
   "cell_type": "code",
   "execution_count": 47,
   "id": "46354951",
   "metadata": {},
   "outputs": [
    {
     "data": {
      "text/html": [
       "<div>\n",
       "<style scoped>\n",
       "    .dataframe tbody tr th:only-of-type {\n",
       "        vertical-align: middle;\n",
       "    }\n",
       "\n",
       "    .dataframe tbody tr th {\n",
       "        vertical-align: top;\n",
       "    }\n",
       "\n",
       "    .dataframe thead th {\n",
       "        text-align: right;\n",
       "    }\n",
       "</style>\n",
       "<table border=\"1\" class=\"dataframe\">\n",
       "  <thead>\n",
       "    <tr style=\"text-align: right;\">\n",
       "      <th></th>\n",
       "      <th>Item</th>\n",
       "      <th>Itemtype</th>\n",
       "      <th>Weight</th>\n",
       "      <th>FatContent</th>\n",
       "      <th>Visibility</th>\n",
       "      <th>MRP</th>\n",
       "      <th>Outlet</th>\n",
       "      <th>OutletEstablishmentYear</th>\n",
       "      <th>OutletSize</th>\n",
       "      <th>OutletCity</th>\n",
       "      <th>OutletType</th>\n",
       "      <th>Sales</th>\n",
       "    </tr>\n",
       "  </thead>\n",
       "  <tbody>\n",
       "    <tr>\n",
       "      <th>0</th>\n",
       "      <td>FDU28</td>\n",
       "      <td>Frozen Foods</td>\n",
       "      <td>19.20</td>\n",
       "      <td>Regular</td>\n",
       "      <td>0.094450</td>\n",
       "      <td>187.8214</td>\n",
       "      <td>OUT_017</td>\n",
       "      <td>2007</td>\n",
       "      <td>NaN</td>\n",
       "      <td>Tier 2</td>\n",
       "      <td>Supermarket Type1</td>\n",
       "      <td>4710.5350</td>\n",
       "    </tr>\n",
       "    <tr>\n",
       "      <th>1</th>\n",
       "      <td>FDY07</td>\n",
       "      <td>Fruits and Vegetables</td>\n",
       "      <td>11.80</td>\n",
       "      <td>Low Fat</td>\n",
       "      <td>0.000000</td>\n",
       "      <td>45.5402</td>\n",
       "      <td>OUT_049</td>\n",
       "      <td>1999</td>\n",
       "      <td>Medium</td>\n",
       "      <td>Tier 1</td>\n",
       "      <td>Supermarket Type1</td>\n",
       "      <td>1516.0266</td>\n",
       "    </tr>\n",
       "    <tr>\n",
       "      <th>2</th>\n",
       "      <td>FDA03</td>\n",
       "      <td>Dairy</td>\n",
       "      <td>18.50</td>\n",
       "      <td>Regular</td>\n",
       "      <td>0.045464</td>\n",
       "      <td>144.1102</td>\n",
       "      <td>OUT_046</td>\n",
       "      <td>1997</td>\n",
       "      <td>Small</td>\n",
       "      <td>Tier 1</td>\n",
       "      <td>Supermarket Type1</td>\n",
       "      <td>2187.1530</td>\n",
       "    </tr>\n",
       "    <tr>\n",
       "      <th>3</th>\n",
       "      <td>FDX32</td>\n",
       "      <td>Fruits and Vegetables</td>\n",
       "      <td>15.10</td>\n",
       "      <td>Regular</td>\n",
       "      <td>0.100014</td>\n",
       "      <td>145.4786</td>\n",
       "      <td>OUT_049</td>\n",
       "      <td>1999</td>\n",
       "      <td>Medium</td>\n",
       "      <td>Tier 1</td>\n",
       "      <td>Supermarket Type1</td>\n",
       "      <td>1589.2646</td>\n",
       "    </tr>\n",
       "    <tr>\n",
       "      <th>4</th>\n",
       "      <td>FDS46</td>\n",
       "      <td>Snack Foods</td>\n",
       "      <td>17.60</td>\n",
       "      <td>Regular</td>\n",
       "      <td>0.047257</td>\n",
       "      <td>119.6782</td>\n",
       "      <td>OUT_046</td>\n",
       "      <td>1997</td>\n",
       "      <td>Small</td>\n",
       "      <td>Tier 1</td>\n",
       "      <td>Supermarket Type1</td>\n",
       "      <td>2145.2076</td>\n",
       "    </tr>\n",
       "    <tr>\n",
       "      <th>5</th>\n",
       "      <td>FDF32</td>\n",
       "      <td>Fruits and Vegetables</td>\n",
       "      <td>16.35</td>\n",
       "      <td>Low Fat</td>\n",
       "      <td>0.068024</td>\n",
       "      <td>196.4426</td>\n",
       "      <td>OUT_013</td>\n",
       "      <td>1987</td>\n",
       "      <td>High</td>\n",
       "      <td>Tier 3</td>\n",
       "      <td>Supermarket Type1</td>\n",
       "      <td>1977.4260</td>\n",
       "    </tr>\n",
       "  </tbody>\n",
       "</table>\n",
       "</div>"
      ],
      "text/plain": [
       "    Item               Itemtype  Weight FatContent  Visibility       MRP  \\\n",
       "0  FDU28           Frozen Foods   19.20    Regular    0.094450  187.8214   \n",
       "1  FDY07  Fruits and Vegetables   11.80    Low Fat    0.000000   45.5402   \n",
       "2  FDA03                  Dairy   18.50    Regular    0.045464  144.1102   \n",
       "3  FDX32  Fruits and Vegetables   15.10    Regular    0.100014  145.4786   \n",
       "4  FDS46            Snack Foods   17.60    Regular    0.047257  119.6782   \n",
       "5  FDF32  Fruits and Vegetables   16.35    Low Fat    0.068024  196.4426   \n",
       "\n",
       "    Outlet  OutletEstablishmentYear OutletSize OutletCity         OutletType  \\\n",
       "0  OUT_017                     2007        NaN     Tier 2  Supermarket Type1   \n",
       "1  OUT_049                     1999     Medium     Tier 1  Supermarket Type1   \n",
       "2  OUT_046                     1997      Small     Tier 1  Supermarket Type1   \n",
       "3  OUT_049                     1999     Medium     Tier 1  Supermarket Type1   \n",
       "4  OUT_046                     1997      Small     Tier 1  Supermarket Type1   \n",
       "5  OUT_013                     1987       High     Tier 3  Supermarket Type1   \n",
       "\n",
       "       Sales  \n",
       "0  4710.5350  \n",
       "1  1516.0266  \n",
       "2  2187.1530  \n",
       "3  1589.2646  \n",
       "4  2145.2076  \n",
       "5  1977.4260  "
      ]
     },
     "execution_count": 47,
     "metadata": {},
     "output_type": "execute_result"
    }
   ],
   "source": [
    "mega.head(6)"
   ]
  },
  {
   "cell_type": "code",
   "execution_count": 48,
   "id": "23b26a45",
   "metadata": {},
   "outputs": [
    {
     "name": "stdout",
     "output_type": "stream",
     "text": [
      "<class 'pandas.core.frame.DataFrame'>\n",
      "RangeIndex: 8523 entries, 0 to 8522\n",
      "Data columns (total 12 columns):\n",
      " #   Column                   Non-Null Count  Dtype  \n",
      "---  ------                   --------------  -----  \n",
      " 0   Item                     8523 non-null   object \n",
      " 1   Itemtype                 8523 non-null   object \n",
      " 2   Weight                   7060 non-null   float64\n",
      " 3   FatContent               8523 non-null   object \n",
      " 4   Visibility               8523 non-null   float64\n",
      " 5   MRP                      8523 non-null   float64\n",
      " 6   Outlet                   8523 non-null   object \n",
      " 7   OutletEstablishmentYear  8523 non-null   int64  \n",
      " 8   OutletSize               6113 non-null   object \n",
      " 9   OutletCity               8523 non-null   object \n",
      " 10  OutletType               8523 non-null   object \n",
      " 11  Sales                    8523 non-null   float64\n",
      "dtypes: float64(4), int64(1), object(7)\n",
      "memory usage: 799.2+ KB\n"
     ]
    }
   ],
   "source": [
    "mega.info()"
   ]
  },
  {
   "cell_type": "raw",
   "id": "36fb00a9",
   "metadata": {},
   "source": [
    "Descriptions of the dataset columns:\n",
    "\n",
    " 0   Item                     Item code name \n",
    " 1   Itemtype                 Type of item \n",
    " 2   Weight                   Weight of the item\n",
    " 3   FatContent               Fat content [low or regular] \n",
    " 4   Visibility               Percentage area allocated to the item in the store for display.\n",
    " 5   MRP                      Maximum Retail Price\n",
    " 6   Outlet                   Unique Store ID\n",
    " 7   OutletEstablishmentYear  Year in which store was established\n",
    " 8   OutletSize               Store categorized into 3 categories based on the ground area covered.\n",
    " 9   OutletCity               City type categorized into 3 types\n",
    " 10  OutletType               Categorizes the outlet as a grocery store or some sort of supermarket\n",
    " 11  Sales                    Sales in items in that outlet"
   ]
  },
  {
   "cell_type": "code",
   "execution_count": 49,
   "id": "1356a87b",
   "metadata": {},
   "outputs": [
    {
     "data": {
      "text/plain": [
       "(8523, 12)"
      ]
     },
     "execution_count": 49,
     "metadata": {},
     "output_type": "execute_result"
    }
   ],
   "source": [
    "mega.shape"
   ]
  },
  {
   "cell_type": "code",
   "execution_count": 50,
   "id": "b37fbb08",
   "metadata": {},
   "outputs": [
    {
     "data": {
      "text/html": [
       "<div>\n",
       "<style scoped>\n",
       "    .dataframe tbody tr th:only-of-type {\n",
       "        vertical-align: middle;\n",
       "    }\n",
       "\n",
       "    .dataframe tbody tr th {\n",
       "        vertical-align: top;\n",
       "    }\n",
       "\n",
       "    .dataframe thead th {\n",
       "        text-align: right;\n",
       "    }\n",
       "</style>\n",
       "<table border=\"1\" class=\"dataframe\">\n",
       "  <thead>\n",
       "    <tr style=\"text-align: right;\">\n",
       "      <th></th>\n",
       "      <th>Weight</th>\n",
       "      <th>Visibility</th>\n",
       "      <th>MRP</th>\n",
       "      <th>OutletEstablishmentYear</th>\n",
       "      <th>Sales</th>\n",
       "    </tr>\n",
       "  </thead>\n",
       "  <tbody>\n",
       "    <tr>\n",
       "      <th>count</th>\n",
       "      <td>7060.000000</td>\n",
       "      <td>8523.000000</td>\n",
       "      <td>8523.000000</td>\n",
       "      <td>8523.000000</td>\n",
       "      <td>8523.000000</td>\n",
       "    </tr>\n",
       "    <tr>\n",
       "      <th>mean</th>\n",
       "      <td>12.857645</td>\n",
       "      <td>0.066132</td>\n",
       "      <td>140.992782</td>\n",
       "      <td>1997.831867</td>\n",
       "      <td>2181.288914</td>\n",
       "    </tr>\n",
       "    <tr>\n",
       "      <th>std</th>\n",
       "      <td>4.643456</td>\n",
       "      <td>0.051598</td>\n",
       "      <td>62.275067</td>\n",
       "      <td>8.371760</td>\n",
       "      <td>1706.499616</td>\n",
       "    </tr>\n",
       "    <tr>\n",
       "      <th>min</th>\n",
       "      <td>4.555000</td>\n",
       "      <td>0.000000</td>\n",
       "      <td>31.290000</td>\n",
       "      <td>1985.000000</td>\n",
       "      <td>33.290000</td>\n",
       "    </tr>\n",
       "    <tr>\n",
       "      <th>25%</th>\n",
       "      <td>8.773750</td>\n",
       "      <td>0.026989</td>\n",
       "      <td>93.826500</td>\n",
       "      <td>1987.000000</td>\n",
       "      <td>834.247400</td>\n",
       "    </tr>\n",
       "    <tr>\n",
       "      <th>50%</th>\n",
       "      <td>12.600000</td>\n",
       "      <td>0.053931</td>\n",
       "      <td>143.012800</td>\n",
       "      <td>1999.000000</td>\n",
       "      <td>1794.331000</td>\n",
       "    </tr>\n",
       "    <tr>\n",
       "      <th>75%</th>\n",
       "      <td>16.850000</td>\n",
       "      <td>0.094585</td>\n",
       "      <td>185.643700</td>\n",
       "      <td>2004.000000</td>\n",
       "      <td>3101.296400</td>\n",
       "    </tr>\n",
       "    <tr>\n",
       "      <th>max</th>\n",
       "      <td>21.350000</td>\n",
       "      <td>0.328391</td>\n",
       "      <td>266.888400</td>\n",
       "      <td>2009.000000</td>\n",
       "      <td>13086.964800</td>\n",
       "    </tr>\n",
       "  </tbody>\n",
       "</table>\n",
       "</div>"
      ],
      "text/plain": [
       "            Weight   Visibility          MRP  OutletEstablishmentYear  \\\n",
       "count  7060.000000  8523.000000  8523.000000              8523.000000   \n",
       "mean     12.857645     0.066132   140.992782              1997.831867   \n",
       "std       4.643456     0.051598    62.275067                 8.371760   \n",
       "min       4.555000     0.000000    31.290000              1985.000000   \n",
       "25%       8.773750     0.026989    93.826500              1987.000000   \n",
       "50%      12.600000     0.053931   143.012800              1999.000000   \n",
       "75%      16.850000     0.094585   185.643700              2004.000000   \n",
       "max      21.350000     0.328391   266.888400              2009.000000   \n",
       "\n",
       "              Sales  \n",
       "count   8523.000000  \n",
       "mean    2181.288914  \n",
       "std     1706.499616  \n",
       "min       33.290000  \n",
       "25%      834.247400  \n",
       "50%     1794.331000  \n",
       "75%     3101.296400  \n",
       "max    13086.964800  "
      ]
     },
     "execution_count": 50,
     "metadata": {},
     "output_type": "execute_result"
    }
   ],
   "source": [
    "mega.describe()"
   ]
  },
  {
   "cell_type": "markdown",
   "id": "44aaa9ca",
   "metadata": {},
   "source": [
    "As we can see weight is a feild where some of the values are absent"
   ]
  },
  {
   "cell_type": "markdown",
   "id": "951c18ab",
   "metadata": {},
   "source": [
    "# Data cleansing"
   ]
  },
  {
   "cell_type": "code",
   "execution_count": 51,
   "id": "f7eb3ddd",
   "metadata": {},
   "outputs": [
    {
     "data": {
      "text/plain": [
       "<AxesSubplot:>"
      ]
     },
     "execution_count": 51,
     "metadata": {},
     "output_type": "execute_result"
    },
    {
     "data": {
      "image/png": "[encoded data removed]",
      "text/plain": [
       "<Figure size 432x288 with 1 Axes>"
      ]
     },
     "metadata": {},
     "output_type": "display_data"
    }
   ],
   "source": [
    "mega[['Sales']].boxplot()"
   ]
  },
  {
   "cell_type": "code",
   "execution_count": 52,
   "id": "cfecbd9b",
   "metadata": {},
   "outputs": [
    {
     "data": {
      "text/html": [
       "<div>\n",
       "<style scoped>\n",
       "    .dataframe tbody tr th:only-of-type {\n",
       "        vertical-align: middle;\n",
       "    }\n",
       "\n",
       "    .dataframe tbody tr th {\n",
       "        vertical-align: top;\n",
       "    }\n",
       "\n",
       "    .dataframe thead th {\n",
       "        text-align: right;\n",
       "    }\n",
       "</style>\n",
       "<table border=\"1\" class=\"dataframe\">\n",
       "  <thead>\n",
       "    <tr style=\"text-align: right;\">\n",
       "      <th></th>\n",
       "      <th>Item</th>\n",
       "      <th>Itemtype</th>\n",
       "      <th>Weight</th>\n",
       "      <th>FatContent</th>\n",
       "      <th>Visibility</th>\n",
       "      <th>MRP</th>\n",
       "      <th>Outlet</th>\n",
       "      <th>OutletEstablishmentYear</th>\n",
       "      <th>OutletSize</th>\n",
       "      <th>OutletCity</th>\n",
       "      <th>OutletType</th>\n",
       "      <th>Sales</th>\n",
       "    </tr>\n",
       "  </thead>\n",
       "  <tbody>\n",
       "    <tr>\n",
       "      <th>1450</th>\n",
       "      <td>FDZ20</td>\n",
       "      <td>Fruits and Vegetables</td>\n",
       "      <td>NaN</td>\n",
       "      <td>Low Fat</td>\n",
       "      <td>0.000000</td>\n",
       "      <td>253.0356</td>\n",
       "      <td>OUT_027</td>\n",
       "      <td>1985</td>\n",
       "      <td>Medium</td>\n",
       "      <td>Tier 3</td>\n",
       "      <td>Supermarket Type3</td>\n",
       "      <td>11445.1020</td>\n",
       "    </tr>\n",
       "    <tr>\n",
       "      <th>4349</th>\n",
       "      <td>FDP33</td>\n",
       "      <td>Snack Foods</td>\n",
       "      <td>NaN</td>\n",
       "      <td>Low Fat</td>\n",
       "      <td>0.088840</td>\n",
       "      <td>254.2672</td>\n",
       "      <td>OUT_027</td>\n",
       "      <td>1985</td>\n",
       "      <td>Medium</td>\n",
       "      <td>Tier 3</td>\n",
       "      <td>Supermarket Type3</td>\n",
       "      <td>10993.6896</td>\n",
       "    </tr>\n",
       "    <tr>\n",
       "      <th>5223</th>\n",
       "      <td>FDQ19</td>\n",
       "      <td>Fruits and Vegetables</td>\n",
       "      <td>NaN</td>\n",
       "      <td>Regular</td>\n",
       "      <td>0.014296</td>\n",
       "      <td>242.6512</td>\n",
       "      <td>OUT_027</td>\n",
       "      <td>1985</td>\n",
       "      <td>Medium</td>\n",
       "      <td>Tier 3</td>\n",
       "      <td>Supermarket Type3</td>\n",
       "      <td>12117.5600</td>\n",
       "    </tr>\n",
       "    <tr>\n",
       "      <th>7188</th>\n",
       "      <td>NCE42</td>\n",
       "      <td>Household</td>\n",
       "      <td>NaN</td>\n",
       "      <td>Low Fat</td>\n",
       "      <td>0.010551</td>\n",
       "      <td>234.9958</td>\n",
       "      <td>OUT_027</td>\n",
       "      <td>1985</td>\n",
       "      <td>Medium</td>\n",
       "      <td>Tier 3</td>\n",
       "      <td>Supermarket Type3</td>\n",
       "      <td>13086.9648</td>\n",
       "    </tr>\n",
       "  </tbody>\n",
       "</table>\n",
       "</div>"
      ],
      "text/plain": [
       "       Item               Itemtype  Weight FatContent  Visibility       MRP  \\\n",
       "1450  FDZ20  Fruits and Vegetables     NaN    Low Fat    0.000000  253.0356   \n",
       "4349  FDP33            Snack Foods     NaN    Low Fat    0.088840  254.2672   \n",
       "5223  FDQ19  Fruits and Vegetables     NaN    Regular    0.014296  242.6512   \n",
       "7188  NCE42              Household     NaN    Low Fat    0.010551  234.9958   \n",
       "\n",
       "       Outlet  OutletEstablishmentYear OutletSize OutletCity  \\\n",
       "1450  OUT_027                     1985     Medium     Tier 3   \n",
       "4349  OUT_027                     1985     Medium     Tier 3   \n",
       "5223  OUT_027                     1985     Medium     Tier 3   \n",
       "7188  OUT_027                     1985     Medium     Tier 3   \n",
       "\n",
       "             OutletType       Sales  \n",
       "1450  Supermarket Type3  11445.1020  \n",
       "4349  Supermarket Type3  10993.6896  \n",
       "5223  Supermarket Type3  12117.5600  \n",
       "7188  Supermarket Type3  13086.9648  "
      ]
     },
     "execution_count": 52,
     "metadata": {},
     "output_type": "execute_result"
    }
   ],
   "source": [
    "mega[mega['Sales']>10500]"
   ]
  },
  {
   "cell_type": "markdown",
   "id": "e0000bc1",
   "metadata": {},
   "source": [
    "We have four outliers, but for the timebeing, we will keep the data as it is"
   ]
  },
  {
   "cell_type": "code",
   "execution_count": 53,
   "id": "04e73d26",
   "metadata": {},
   "outputs": [
    {
     "data": {
      "text/plain": [
       "Item                          0\n",
       "Itemtype                      0\n",
       "Weight                     1463\n",
       "FatContent                    0\n",
       "Visibility                    0\n",
       "MRP                           0\n",
       "Outlet                        0\n",
       "OutletEstablishmentYear       0\n",
       "OutletSize                 2410\n",
       "OutletCity                    0\n",
       "OutletType                    0\n",
       "Sales                         0\n",
       "dtype: int64"
      ]
     },
     "execution_count": 53,
     "metadata": {},
     "output_type": "execute_result"
    }
   ],
   "source": [
    "mega.isnull().sum()"
   ]
  },
  {
   "cell_type": "markdown",
   "id": "03d62a6d",
   "metadata": {},
   "source": [
    "As null values affect the ML model, hence let us fill up them with default values."
   ]
  },
  {
   "cell_type": "code",
   "execution_count": 54,
   "id": "afae52b6",
   "metadata": {},
   "outputs": [],
   "source": [
    "mega.loc[mega.Weight.isnull(),'Weight']= mega.Weight.median()"
   ]
  },
  {
   "cell_type": "code",
   "execution_count": 55,
   "id": "06273775",
   "metadata": {},
   "outputs": [
    {
     "data": {
      "text/plain": [
       "12.6"
      ]
     },
     "execution_count": 55,
     "metadata": {},
     "output_type": "execute_result"
    }
   ],
   "source": [
    "mega.Weight.median()"
   ]
  },
  {
   "cell_type": "code",
   "execution_count": 56,
   "id": "94fc6ee4",
   "metadata": {},
   "outputs": [
    {
     "data": {
      "text/html": [
       "<div>\n",
       "<style scoped>\n",
       "    .dataframe tbody tr th:only-of-type {\n",
       "        vertical-align: middle;\n",
       "    }\n",
       "\n",
       "    .dataframe tbody tr th {\n",
       "        vertical-align: top;\n",
       "    }\n",
       "\n",
       "    .dataframe thead th {\n",
       "        text-align: right;\n",
       "    }\n",
       "</style>\n",
       "<table border=\"1\" class=\"dataframe\">\n",
       "  <thead>\n",
       "    <tr style=\"text-align: right;\">\n",
       "      <th></th>\n",
       "      <th>Item</th>\n",
       "      <th>Itemtype</th>\n",
       "      <th>Weight</th>\n",
       "      <th>FatContent</th>\n",
       "      <th>Visibility</th>\n",
       "      <th>MRP</th>\n",
       "      <th>Outlet</th>\n",
       "      <th>OutletEstablishmentYear</th>\n",
       "      <th>OutletSize</th>\n",
       "      <th>OutletCity</th>\n",
       "      <th>OutletType</th>\n",
       "      <th>Sales</th>\n",
       "    </tr>\n",
       "  </thead>\n",
       "  <tbody>\n",
       "  </tbody>\n",
       "</table>\n",
       "</div>"
      ],
      "text/plain": [
       "Empty DataFrame\n",
       "Columns: [Item, Itemtype, Weight, FatContent, Visibility, MRP, Outlet, OutletEstablishmentYear, OutletSize, OutletCity, OutletType, Sales]\n",
       "Index: []"
      ]
     },
     "execution_count": 56,
     "metadata": {},
     "output_type": "execute_result"
    }
   ],
   "source": [
    "mega.loc[mega.Weight.isnull()]"
   ]
  },
  {
   "cell_type": "code",
   "execution_count": 57,
   "id": "e1113f0c",
   "metadata": {},
   "outputs": [
    {
     "data": {
      "text/plain": [
       "Item                          0\n",
       "Itemtype                      0\n",
       "Weight                        0\n",
       "FatContent                    0\n",
       "Visibility                    0\n",
       "MRP                           0\n",
       "Outlet                        0\n",
       "OutletEstablishmentYear       0\n",
       "OutletSize                 2410\n",
       "OutletCity                    0\n",
       "OutletType                    0\n",
       "Sales                         0\n",
       "dtype: int64"
      ]
     },
     "execution_count": 57,
     "metadata": {},
     "output_type": "execute_result"
    }
   ],
   "source": [
    "mega.isnull().sum()"
   ]
  },
  {
   "cell_type": "code",
   "execution_count": 58,
   "id": "7c3fdbd0",
   "metadata": {},
   "outputs": [
    {
     "data": {
      "text/html": [
       "<div>\n",
       "<style scoped>\n",
       "    .dataframe tbody tr th:only-of-type {\n",
       "        vertical-align: middle;\n",
       "    }\n",
       "\n",
       "    .dataframe tbody tr th {\n",
       "        vertical-align: top;\n",
       "    }\n",
       "\n",
       "    .dataframe thead th {\n",
       "        text-align: right;\n",
       "    }\n",
       "</style>\n",
       "<table border=\"1\" class=\"dataframe\">\n",
       "  <thead>\n",
       "    <tr style=\"text-align: right;\">\n",
       "      <th></th>\n",
       "      <th>Weight</th>\n",
       "      <th>Visibility</th>\n",
       "      <th>MRP</th>\n",
       "      <th>OutletEstablishmentYear</th>\n",
       "      <th>Sales</th>\n",
       "    </tr>\n",
       "  </thead>\n",
       "  <tbody>\n",
       "    <tr>\n",
       "      <th>count</th>\n",
       "      <td>8523.00000</td>\n",
       "      <td>8523.000000</td>\n",
       "      <td>8523.000000</td>\n",
       "      <td>8523.000000</td>\n",
       "      <td>8523.000000</td>\n",
       "    </tr>\n",
       "    <tr>\n",
       "      <th>mean</th>\n",
       "      <td>12.81342</td>\n",
       "      <td>0.066132</td>\n",
       "      <td>140.992782</td>\n",
       "      <td>1997.831867</td>\n",
       "      <td>2181.288914</td>\n",
       "    </tr>\n",
       "    <tr>\n",
       "      <th>std</th>\n",
       "      <td>4.22724</td>\n",
       "      <td>0.051598</td>\n",
       "      <td>62.275067</td>\n",
       "      <td>8.371760</td>\n",
       "      <td>1706.499616</td>\n",
       "    </tr>\n",
       "    <tr>\n",
       "      <th>min</th>\n",
       "      <td>4.55500</td>\n",
       "      <td>0.000000</td>\n",
       "      <td>31.290000</td>\n",
       "      <td>1985.000000</td>\n",
       "      <td>33.290000</td>\n",
       "    </tr>\n",
       "    <tr>\n",
       "      <th>25%</th>\n",
       "      <td>9.31000</td>\n",
       "      <td>0.026989</td>\n",
       "      <td>93.826500</td>\n",
       "      <td>1987.000000</td>\n",
       "      <td>834.247400</td>\n",
       "    </tr>\n",
       "    <tr>\n",
       "      <th>50%</th>\n",
       "      <td>12.60000</td>\n",
       "      <td>0.053931</td>\n",
       "      <td>143.012800</td>\n",
       "      <td>1999.000000</td>\n",
       "      <td>1794.331000</td>\n",
       "    </tr>\n",
       "    <tr>\n",
       "      <th>75%</th>\n",
       "      <td>16.00000</td>\n",
       "      <td>0.094585</td>\n",
       "      <td>185.643700</td>\n",
       "      <td>2004.000000</td>\n",
       "      <td>3101.296400</td>\n",
       "    </tr>\n",
       "    <tr>\n",
       "      <th>max</th>\n",
       "      <td>21.35000</td>\n",
       "      <td>0.328391</td>\n",
       "      <td>266.888400</td>\n",
       "      <td>2009.000000</td>\n",
       "      <td>13086.964800</td>\n",
       "    </tr>\n",
       "  </tbody>\n",
       "</table>\n",
       "</div>"
      ],
      "text/plain": [
       "           Weight   Visibility          MRP  OutletEstablishmentYear  \\\n",
       "count  8523.00000  8523.000000  8523.000000              8523.000000   \n",
       "mean     12.81342     0.066132   140.992782              1997.831867   \n",
       "std       4.22724     0.051598    62.275067                 8.371760   \n",
       "min       4.55500     0.000000    31.290000              1985.000000   \n",
       "25%       9.31000     0.026989    93.826500              1987.000000   \n",
       "50%      12.60000     0.053931   143.012800              1999.000000   \n",
       "75%      16.00000     0.094585   185.643700              2004.000000   \n",
       "max      21.35000     0.328391   266.888400              2009.000000   \n",
       "\n",
       "              Sales  \n",
       "count   8523.000000  \n",
       "mean    2181.288914  \n",
       "std     1706.499616  \n",
       "min       33.290000  \n",
       "25%      834.247400  \n",
       "50%     1794.331000  \n",
       "75%     3101.296400  \n",
       "max    13086.964800  "
      ]
     },
     "execution_count": 58,
     "metadata": {},
     "output_type": "execute_result"
    }
   ],
   "source": [
    "mega.describe()"
   ]
  },
  {
   "cell_type": "markdown",
   "id": "c86c0273",
   "metadata": {},
   "source": [
    "Will do the same with outletsize"
   ]
  },
  {
   "cell_type": "code",
   "execution_count": 59,
   "id": "329d2ee6",
   "metadata": {},
   "outputs": [],
   "source": [
    "a=mega['OutletSize'].mode()"
   ]
  },
  {
   "cell_type": "code",
   "execution_count": 60,
   "id": "0e2e0679",
   "metadata": {},
   "outputs": [],
   "source": [
    "mega.loc[mega['OutletSize'].isnull(),'OutletSize']= a"
   ]
  },
  {
   "cell_type": "markdown",
   "id": "3c7d959c",
   "metadata": {},
   "source": [
    "most frequent store size is medium. So whereever the outletsize was not mentioned, we replaced them with 'Medium'"
   ]
  },
  {
   "cell_type": "code",
   "execution_count": 61,
   "id": "14c66dd8",
   "metadata": {},
   "outputs": [
    {
     "data": {
      "text/plain": [
       "Item                          0\n",
       "Itemtype                      0\n",
       "Weight                        0\n",
       "FatContent                    0\n",
       "Visibility                    0\n",
       "MRP                           0\n",
       "Outlet                        0\n",
       "OutletEstablishmentYear       0\n",
       "OutletSize                 2409\n",
       "OutletCity                    0\n",
       "OutletType                    0\n",
       "Sales                         0\n",
       "dtype: int64"
      ]
     },
     "execution_count": 61,
     "metadata": {},
     "output_type": "execute_result"
    }
   ],
   "source": [
    "mega.isnull().sum()"
   ]
  },
  {
   "cell_type": "code",
   "execution_count": 62,
   "id": "a9c03e2e",
   "metadata": {},
   "outputs": [],
   "source": [
    "vnn= lambda a : (2022-a)\n",
    "mega['age_of_store']= mega['OutletEstablishmentYear'].apply(vnn)"
   ]
  },
  {
   "cell_type": "code",
   "execution_count": 63,
   "id": "a6044e3c",
   "metadata": {},
   "outputs": [
    {
     "data": {
      "text/html": [
       "<div>\n",
       "<style scoped>\n",
       "    .dataframe tbody tr th:only-of-type {\n",
       "        vertical-align: middle;\n",
       "    }\n",
       "\n",
       "    .dataframe tbody tr th {\n",
       "        vertical-align: top;\n",
       "    }\n",
       "\n",
       "    .dataframe thead th {\n",
       "        text-align: right;\n",
       "    }\n",
       "</style>\n",
       "<table border=\"1\" class=\"dataframe\">\n",
       "  <thead>\n",
       "    <tr style=\"text-align: right;\">\n",
       "      <th></th>\n",
       "      <th>Item</th>\n",
       "      <th>Itemtype</th>\n",
       "      <th>Weight</th>\n",
       "      <th>FatContent</th>\n",
       "      <th>Visibility</th>\n",
       "      <th>MRP</th>\n",
       "      <th>Outlet</th>\n",
       "      <th>OutletEstablishmentYear</th>\n",
       "      <th>OutletSize</th>\n",
       "      <th>OutletCity</th>\n",
       "      <th>OutletType</th>\n",
       "      <th>Sales</th>\n",
       "      <th>age_of_store</th>\n",
       "    </tr>\n",
       "  </thead>\n",
       "  <tbody>\n",
       "    <tr>\n",
       "      <th>0</th>\n",
       "      <td>FDU28</td>\n",
       "      <td>Frozen Foods</td>\n",
       "      <td>19.20</td>\n",
       "      <td>Regular</td>\n",
       "      <td>0.094450</td>\n",
       "      <td>187.8214</td>\n",
       "      <td>OUT_017</td>\n",
       "      <td>2007</td>\n",
       "      <td>Medium</td>\n",
       "      <td>Tier 2</td>\n",
       "      <td>Supermarket Type1</td>\n",
       "      <td>4710.5350</td>\n",
       "      <td>15</td>\n",
       "    </tr>\n",
       "    <tr>\n",
       "      <th>1</th>\n",
       "      <td>FDY07</td>\n",
       "      <td>Fruits and Vegetables</td>\n",
       "      <td>11.80</td>\n",
       "      <td>Low Fat</td>\n",
       "      <td>0.000000</td>\n",
       "      <td>45.5402</td>\n",
       "      <td>OUT_049</td>\n",
       "      <td>1999</td>\n",
       "      <td>Medium</td>\n",
       "      <td>Tier 1</td>\n",
       "      <td>Supermarket Type1</td>\n",
       "      <td>1516.0266</td>\n",
       "      <td>23</td>\n",
       "    </tr>\n",
       "    <tr>\n",
       "      <th>2</th>\n",
       "      <td>FDA03</td>\n",
       "      <td>Dairy</td>\n",
       "      <td>18.50</td>\n",
       "      <td>Regular</td>\n",
       "      <td>0.045464</td>\n",
       "      <td>144.1102</td>\n",
       "      <td>OUT_046</td>\n",
       "      <td>1997</td>\n",
       "      <td>Small</td>\n",
       "      <td>Tier 1</td>\n",
       "      <td>Supermarket Type1</td>\n",
       "      <td>2187.1530</td>\n",
       "      <td>25</td>\n",
       "    </tr>\n",
       "    <tr>\n",
       "      <th>3</th>\n",
       "      <td>FDX32</td>\n",
       "      <td>Fruits and Vegetables</td>\n",
       "      <td>15.10</td>\n",
       "      <td>Regular</td>\n",
       "      <td>0.100014</td>\n",
       "      <td>145.4786</td>\n",
       "      <td>OUT_049</td>\n",
       "      <td>1999</td>\n",
       "      <td>Medium</td>\n",
       "      <td>Tier 1</td>\n",
       "      <td>Supermarket Type1</td>\n",
       "      <td>1589.2646</td>\n",
       "      <td>23</td>\n",
       "    </tr>\n",
       "    <tr>\n",
       "      <th>4</th>\n",
       "      <td>FDS46</td>\n",
       "      <td>Snack Foods</td>\n",
       "      <td>17.60</td>\n",
       "      <td>Regular</td>\n",
       "      <td>0.047257</td>\n",
       "      <td>119.6782</td>\n",
       "      <td>OUT_046</td>\n",
       "      <td>1997</td>\n",
       "      <td>Small</td>\n",
       "      <td>Tier 1</td>\n",
       "      <td>Supermarket Type1</td>\n",
       "      <td>2145.2076</td>\n",
       "      <td>25</td>\n",
       "    </tr>\n",
       "    <tr>\n",
       "      <th>5</th>\n",
       "      <td>FDF32</td>\n",
       "      <td>Fruits and Vegetables</td>\n",
       "      <td>16.35</td>\n",
       "      <td>Low Fat</td>\n",
       "      <td>0.068024</td>\n",
       "      <td>196.4426</td>\n",
       "      <td>OUT_013</td>\n",
       "      <td>1987</td>\n",
       "      <td>High</td>\n",
       "      <td>Tier 3</td>\n",
       "      <td>Supermarket Type1</td>\n",
       "      <td>1977.4260</td>\n",
       "      <td>35</td>\n",
       "    </tr>\n",
       "    <tr>\n",
       "      <th>6</th>\n",
       "      <td>FDP49</td>\n",
       "      <td>Breakfast</td>\n",
       "      <td>9.00</td>\n",
       "      <td>Regular</td>\n",
       "      <td>0.069089</td>\n",
       "      <td>56.3614</td>\n",
       "      <td>OUT_046</td>\n",
       "      <td>1997</td>\n",
       "      <td>Small</td>\n",
       "      <td>Tier 1</td>\n",
       "      <td>Supermarket Type1</td>\n",
       "      <td>1547.3192</td>\n",
       "      <td>25</td>\n",
       "    </tr>\n",
       "    <tr>\n",
       "      <th>7</th>\n",
       "      <td>NCB42</td>\n",
       "      <td>Health and Hygiene</td>\n",
       "      <td>11.80</td>\n",
       "      <td>Low Fat</td>\n",
       "      <td>0.008596</td>\n",
       "      <td>115.3492</td>\n",
       "      <td>OUT_018</td>\n",
       "      <td>2009</td>\n",
       "      <td>Medium</td>\n",
       "      <td>Tier 3</td>\n",
       "      <td>Supermarket Type2</td>\n",
       "      <td>1621.8888</td>\n",
       "      <td>13</td>\n",
       "    </tr>\n",
       "    <tr>\n",
       "      <th>8</th>\n",
       "      <td>FDP49</td>\n",
       "      <td>Breakfast</td>\n",
       "      <td>9.00</td>\n",
       "      <td>Regular</td>\n",
       "      <td>0.069196</td>\n",
       "      <td>54.3614</td>\n",
       "      <td>OUT_049</td>\n",
       "      <td>1999</td>\n",
       "      <td>Medium</td>\n",
       "      <td>Tier 1</td>\n",
       "      <td>Supermarket Type1</td>\n",
       "      <td>718.3982</td>\n",
       "      <td>23</td>\n",
       "    </tr>\n",
       "    <tr>\n",
       "      <th>9</th>\n",
       "      <td>DRI11</td>\n",
       "      <td>Hard Drinks</td>\n",
       "      <td>12.60</td>\n",
       "      <td>Low Fat</td>\n",
       "      <td>0.034238</td>\n",
       "      <td>113.2834</td>\n",
       "      <td>OUT_027</td>\n",
       "      <td>1985</td>\n",
       "      <td>Medium</td>\n",
       "      <td>Tier 3</td>\n",
       "      <td>Supermarket Type3</td>\n",
       "      <td>2303.6680</td>\n",
       "      <td>37</td>\n",
       "    </tr>\n",
       "  </tbody>\n",
       "</table>\n",
       "</div>"
      ],
      "text/plain": [
       "    Item               Itemtype  Weight FatContent  Visibility       MRP  \\\n",
       "0  FDU28           Frozen Foods   19.20    Regular    0.094450  187.8214   \n",
       "1  FDY07  Fruits and Vegetables   11.80    Low Fat    0.000000   45.5402   \n",
       "2  FDA03                  Dairy   18.50    Regular    0.045464  144.1102   \n",
       "3  FDX32  Fruits and Vegetables   15.10    Regular    0.100014  145.4786   \n",
       "4  FDS46            Snack Foods   17.60    Regular    0.047257  119.6782   \n",
       "5  FDF32  Fruits and Vegetables   16.35    Low Fat    0.068024  196.4426   \n",
       "6  FDP49              Breakfast    9.00    Regular    0.069089   56.3614   \n",
       "7  NCB42     Health and Hygiene   11.80    Low Fat    0.008596  115.3492   \n",
       "8  FDP49              Breakfast    9.00    Regular    0.069196   54.3614   \n",
       "9  DRI11            Hard Drinks   12.60    Low Fat    0.034238  113.2834   \n",
       "\n",
       "    Outlet  OutletEstablishmentYear OutletSize OutletCity         OutletType  \\\n",
       "0  OUT_017                     2007     Medium     Tier 2  Supermarket Type1   \n",
       "1  OUT_049                     1999     Medium     Tier 1  Supermarket Type1   \n",
       "2  OUT_046                     1997      Small     Tier 1  Supermarket Type1   \n",
       "3  OUT_049                     1999     Medium     Tier 1  Supermarket Type1   \n",
       "4  OUT_046                     1997      Small     Tier 1  Supermarket Type1   \n",
       "5  OUT_013                     1987       High     Tier 3  Supermarket Type1   \n",
       "6  OUT_046                     1997      Small     Tier 1  Supermarket Type1   \n",
       "7  OUT_018                     2009     Medium     Tier 3  Supermarket Type2   \n",
       "8  OUT_049                     1999     Medium     Tier 1  Supermarket Type1   \n",
       "9  OUT_027                     1985     Medium     Tier 3  Supermarket Type3   \n",
       "\n",
       "       Sales  age_of_store  \n",
       "0  4710.5350            15  \n",
       "1  1516.0266            23  \n",
       "2  2187.1530            25  \n",
       "3  1589.2646            23  \n",
       "4  2145.2076            25  \n",
       "5  1977.4260            35  \n",
       "6  1547.3192            25  \n",
       "7  1621.8888            13  \n",
       "8   718.3982            23  \n",
       "9  2303.6680            37  "
      ]
     },
     "execution_count": 63,
     "metadata": {},
     "output_type": "execute_result"
    }
   ],
   "source": [
    "mega.head(10)"
   ]
  },
  {
   "cell_type": "markdown",
   "id": "a65d0b88",
   "metadata": {},
   "source": [
    "As age of the store is more convenient to use than establishment year, we created a new column 'age_of_store'"
   ]
  },
  {
   "cell_type": "code",
   "execution_count": 64,
   "id": "a114e348",
   "metadata": {},
   "outputs": [
    {
     "data": {
      "text/html": [
       "<div>\n",
       "<style scoped>\n",
       "    .dataframe tbody tr th:only-of-type {\n",
       "        vertical-align: middle;\n",
       "    }\n",
       "\n",
       "    .dataframe tbody tr th {\n",
       "        vertical-align: top;\n",
       "    }\n",
       "\n",
       "    .dataframe thead th {\n",
       "        text-align: right;\n",
       "    }\n",
       "</style>\n",
       "<table border=\"1\" class=\"dataframe\">\n",
       "  <thead>\n",
       "    <tr style=\"text-align: right;\">\n",
       "      <th></th>\n",
       "      <th>Item</th>\n",
       "      <th>Itemtype</th>\n",
       "      <th>Weight</th>\n",
       "      <th>FatContent</th>\n",
       "      <th>Visibility</th>\n",
       "      <th>MRP</th>\n",
       "      <th>Outlet</th>\n",
       "      <th>OutletEstablishmentYear</th>\n",
       "      <th>OutletSize</th>\n",
       "      <th>OutletCity</th>\n",
       "      <th>OutletType</th>\n",
       "      <th>Sales</th>\n",
       "      <th>age_of_store</th>\n",
       "    </tr>\n",
       "  </thead>\n",
       "  <tbody>\n",
       "  </tbody>\n",
       "</table>\n",
       "</div>"
      ],
      "text/plain": [
       "Empty DataFrame\n",
       "Columns: [Item, Itemtype, Weight, FatContent, Visibility, MRP, Outlet, OutletEstablishmentYear, OutletSize, OutletCity, OutletType, Sales, age_of_store]\n",
       "Index: []"
      ]
     },
     "execution_count": 64,
     "metadata": {},
     "output_type": "execute_result"
    }
   ],
   "source": [
    "mega[mega.duplicated()]"
   ]
  },
  {
   "cell_type": "markdown",
   "id": "67926e2a",
   "metadata": {},
   "source": [
    "So, we don't have any duplicate value in our data set"
   ]
  },
  {
   "cell_type": "markdown",
   "id": "28c9b4b5",
   "metadata": {},
   "source": [
    "Let's check, which item type is frequently kept in stores"
   ]
  },
  {
   "cell_type": "code",
   "execution_count": 65,
   "id": "044e3d31",
   "metadata": {},
   "outputs": [
    {
     "data": {
      "image/png": "[encoded data removed]",
      "text/plain": [
       "<Figure size 864x360 with 1 Axes>"
      ]
     },
     "metadata": {},
     "output_type": "display_data"
    }
   ],
   "source": [
    "plt.figure(figsize=(12,5))\n",
    "sns.set(style='whitegrid')\n",
    "sns.countplot(x=\"Itemtype\", data=mega, order=mega['Itemtype'].value_counts().sort_values(ascending=False).index)\n",
    "plt.xticks(rotation=90)\n",
    "plt.show()"
   ]
  },
  {
   "cell_type": "markdown",
   "id": "90f510cf",
   "metadata": {},
   "source": [
    "Now, let's get the top ten outlets on the basis of their sales count"
   ]
  },
  {
   "cell_type": "code",
   "execution_count": 66,
   "id": "7c6a022e",
   "metadata": {},
   "outputs": [
    {
     "data": {
      "text/html": [
       "<div>\n",
       "<style scoped>\n",
       "    .dataframe tbody tr th:only-of-type {\n",
       "        vertical-align: middle;\n",
       "    }\n",
       "\n",
       "    .dataframe tbody tr th {\n",
       "        vertical-align: top;\n",
       "    }\n",
       "\n",
       "    .dataframe thead th {\n",
       "        text-align: right;\n",
       "    }\n",
       "</style>\n",
       "<table border=\"1\" class=\"dataframe\">\n",
       "  <thead>\n",
       "    <tr style=\"text-align: right;\">\n",
       "      <th></th>\n",
       "      <th>Sales</th>\n",
       "    </tr>\n",
       "    <tr>\n",
       "      <th>Outlet</th>\n",
       "      <th></th>\n",
       "    </tr>\n",
       "  </thead>\n",
       "  <tbody>\n",
       "    <tr>\n",
       "      <th>OUT_027</th>\n",
       "      <td>3.453926e+06</td>\n",
       "    </tr>\n",
       "    <tr>\n",
       "      <th>OUT_035</th>\n",
       "      <td>2.268123e+06</td>\n",
       "    </tr>\n",
       "    <tr>\n",
       "      <th>OUT_049</th>\n",
       "      <td>2.183970e+06</td>\n",
       "    </tr>\n",
       "    <tr>\n",
       "      <th>OUT_017</th>\n",
       "      <td>2.167465e+06</td>\n",
       "    </tr>\n",
       "    <tr>\n",
       "      <th>OUT_013</th>\n",
       "      <td>2.142664e+06</td>\n",
       "    </tr>\n",
       "    <tr>\n",
       "      <th>OUT_046</th>\n",
       "      <td>2.118395e+06</td>\n",
       "    </tr>\n",
       "    <tr>\n",
       "      <th>OUT_045</th>\n",
       "      <td>2.036725e+06</td>\n",
       "    </tr>\n",
       "    <tr>\n",
       "      <th>OUT_018</th>\n",
       "      <td>1.851823e+06</td>\n",
       "    </tr>\n",
       "    <tr>\n",
       "      <th>OUT_010</th>\n",
       "      <td>1.883402e+05</td>\n",
       "    </tr>\n",
       "    <tr>\n",
       "      <th>OUT_019</th>\n",
       "      <td>1.796941e+05</td>\n",
       "    </tr>\n",
       "  </tbody>\n",
       "</table>\n",
       "</div>"
      ],
      "text/plain": [
       "                Sales\n",
       "Outlet               \n",
       "OUT_027  3.453926e+06\n",
       "OUT_035  2.268123e+06\n",
       "OUT_049  2.183970e+06\n",
       "OUT_017  2.167465e+06\n",
       "OUT_013  2.142664e+06\n",
       "OUT_046  2.118395e+06\n",
       "OUT_045  2.036725e+06\n",
       "OUT_018  1.851823e+06\n",
       "OUT_010  1.883402e+05\n",
       "OUT_019  1.796941e+05"
      ]
     },
     "execution_count": 66,
     "metadata": {},
     "output_type": "execute_result"
    }
   ],
   "source": [
    "Outlets_sell = mega.groupby(\"Outlet\")[[\"Sales\"]].sum().sort_values(by='Sales', ascending = False)\n",
    "Outlets_sell"
   ]
  },
  {
   "cell_type": "markdown",
   "id": "a49612e1",
   "metadata": {},
   "source": [
    "Now we will compare the age of the top performing outlets"
   ]
  },
  {
   "cell_type": "code",
   "execution_count": 67,
   "id": "335e5f7e",
   "metadata": {},
   "outputs": [
    {
     "data": {
      "text/html": [
       "<div>\n",
       "<style scoped>\n",
       "    .dataframe tbody tr th:only-of-type {\n",
       "        vertical-align: middle;\n",
       "    }\n",
       "\n",
       "    .dataframe tbody tr th {\n",
       "        vertical-align: top;\n",
       "    }\n",
       "\n",
       "    .dataframe thead th {\n",
       "        text-align: right;\n",
       "    }\n",
       "</style>\n",
       "<table border=\"1\" class=\"dataframe\">\n",
       "  <thead>\n",
       "    <tr style=\"text-align: right;\">\n",
       "      <th></th>\n",
       "      <th>Outlet</th>\n",
       "      <th>age_of_store</th>\n",
       "    </tr>\n",
       "  </thead>\n",
       "  <tbody>\n",
       "    <tr>\n",
       "      <th>0</th>\n",
       "      <td>OUT_017</td>\n",
       "      <td>15</td>\n",
       "    </tr>\n",
       "    <tr>\n",
       "      <th>1</th>\n",
       "      <td>OUT_049</td>\n",
       "      <td>23</td>\n",
       "    </tr>\n",
       "    <tr>\n",
       "      <th>2</th>\n",
       "      <td>OUT_046</td>\n",
       "      <td>25</td>\n",
       "    </tr>\n",
       "    <tr>\n",
       "      <th>5</th>\n",
       "      <td>OUT_013</td>\n",
       "      <td>35</td>\n",
       "    </tr>\n",
       "    <tr>\n",
       "      <th>7</th>\n",
       "      <td>OUT_018</td>\n",
       "      <td>13</td>\n",
       "    </tr>\n",
       "    <tr>\n",
       "      <th>9</th>\n",
       "      <td>OUT_027</td>\n",
       "      <td>37</td>\n",
       "    </tr>\n",
       "    <tr>\n",
       "      <th>10</th>\n",
       "      <td>OUT_035</td>\n",
       "      <td>18</td>\n",
       "    </tr>\n",
       "    <tr>\n",
       "      <th>14</th>\n",
       "      <td>OUT_019</td>\n",
       "      <td>37</td>\n",
       "    </tr>\n",
       "    <tr>\n",
       "      <th>19</th>\n",
       "      <td>OUT_010</td>\n",
       "      <td>24</td>\n",
       "    </tr>\n",
       "    <tr>\n",
       "      <th>24</th>\n",
       "      <td>OUT_045</td>\n",
       "      <td>20</td>\n",
       "    </tr>\n",
       "  </tbody>\n",
       "</table>\n",
       "</div>"
      ],
      "text/plain": [
       "     Outlet  age_of_store\n",
       "0   OUT_017            15\n",
       "1   OUT_049            23\n",
       "2   OUT_046            25\n",
       "5   OUT_013            35\n",
       "7   OUT_018            13\n",
       "9   OUT_027            37\n",
       "10  OUT_035            18\n",
       "14  OUT_019            37\n",
       "19  OUT_010            24\n",
       "24  OUT_045            20"
      ]
     },
     "execution_count": 67,
     "metadata": {},
     "output_type": "execute_result"
    }
   ],
   "source": [
    "Outlet_age = mega[['Outlet','age_of_store']].drop_duplicates()\n",
    "Outlet_age"
   ]
  },
  {
   "cell_type": "code",
   "execution_count": 68,
   "id": "7b6c5c9b",
   "metadata": {},
   "outputs": [
    {
     "data": {
      "text/html": [
       "<div>\n",
       "<style scoped>\n",
       "    .dataframe tbody tr th:only-of-type {\n",
       "        vertical-align: middle;\n",
       "    }\n",
       "\n",
       "    .dataframe tbody tr th {\n",
       "        vertical-align: top;\n",
       "    }\n",
       "\n",
       "    .dataframe thead th {\n",
       "        text-align: right;\n",
       "    }\n",
       "</style>\n",
       "<table border=\"1\" class=\"dataframe\">\n",
       "  <thead>\n",
       "    <tr style=\"text-align: right;\">\n",
       "      <th></th>\n",
       "      <th>Outlet</th>\n",
       "      <th>Sales</th>\n",
       "      <th>age_of_store</th>\n",
       "    </tr>\n",
       "  </thead>\n",
       "  <tbody>\n",
       "    <tr>\n",
       "      <th>0</th>\n",
       "      <td>OUT_027</td>\n",
       "      <td>3.453926e+06</td>\n",
       "      <td>37</td>\n",
       "    </tr>\n",
       "    <tr>\n",
       "      <th>1</th>\n",
       "      <td>OUT_035</td>\n",
       "      <td>2.268123e+06</td>\n",
       "      <td>18</td>\n",
       "    </tr>\n",
       "    <tr>\n",
       "      <th>2</th>\n",
       "      <td>OUT_049</td>\n",
       "      <td>2.183970e+06</td>\n",
       "      <td>23</td>\n",
       "    </tr>\n",
       "    <tr>\n",
       "      <th>3</th>\n",
       "      <td>OUT_017</td>\n",
       "      <td>2.167465e+06</td>\n",
       "      <td>15</td>\n",
       "    </tr>\n",
       "    <tr>\n",
       "      <th>4</th>\n",
       "      <td>OUT_013</td>\n",
       "      <td>2.142664e+06</td>\n",
       "      <td>35</td>\n",
       "    </tr>\n",
       "    <tr>\n",
       "      <th>5</th>\n",
       "      <td>OUT_046</td>\n",
       "      <td>2.118395e+06</td>\n",
       "      <td>25</td>\n",
       "    </tr>\n",
       "    <tr>\n",
       "      <th>6</th>\n",
       "      <td>OUT_045</td>\n",
       "      <td>2.036725e+06</td>\n",
       "      <td>20</td>\n",
       "    </tr>\n",
       "    <tr>\n",
       "      <th>7</th>\n",
       "      <td>OUT_018</td>\n",
       "      <td>1.851823e+06</td>\n",
       "      <td>13</td>\n",
       "    </tr>\n",
       "    <tr>\n",
       "      <th>8</th>\n",
       "      <td>OUT_010</td>\n",
       "      <td>1.883402e+05</td>\n",
       "      <td>24</td>\n",
       "    </tr>\n",
       "    <tr>\n",
       "      <th>9</th>\n",
       "      <td>OUT_019</td>\n",
       "      <td>1.796941e+05</td>\n",
       "      <td>37</td>\n",
       "    </tr>\n",
       "  </tbody>\n",
       "</table>\n",
       "</div>"
      ],
      "text/plain": [
       "    Outlet         Sales  age_of_store\n",
       "0  OUT_027  3.453926e+06            37\n",
       "1  OUT_035  2.268123e+06            18\n",
       "2  OUT_049  2.183970e+06            23\n",
       "3  OUT_017  2.167465e+06            15\n",
       "4  OUT_013  2.142664e+06            35\n",
       "5  OUT_046  2.118395e+06            25\n",
       "6  OUT_045  2.036725e+06            20\n",
       "7  OUT_018  1.851823e+06            13\n",
       "8  OUT_010  1.883402e+05            24\n",
       "9  OUT_019  1.796941e+05            37"
      ]
     },
     "execution_count": 68,
     "metadata": {},
     "output_type": "execute_result"
    }
   ],
   "source": [
    "age_vs_sales = pd.merge(Outlets_sell,Outlet_age, how='left', on='Outlet')\n",
    "age_vs_sales"
   ]
  },
  {
   "cell_type": "code",
   "execution_count": 90,
   "id": "1a1554a9",
   "metadata": {},
   "outputs": [
    {
     "data": {
      "text/plain": [
       "Text(0.5, 1.0, 'Sales vs Store age')"
      ]
     },
     "execution_count": 90,
     "metadata": {},
     "output_type": "execute_result"
    },
    {
     "data": {
      "image/png": "[encoded data removed]",
      "text/plain": [
       "<Figure size 720x360 with 1 Axes>"
      ]
     },
     "metadata": {},
     "output_type": "display_data"
    }
   ],
   "source": [
    "plt.figure(figsize=(10,5))\n",
    "sns.regplot(x='age_of_store',y='Sales', data=age_vs_sales, color=\"r\")\n",
    "plt.xlabel('Age of store')\n",
    "plt.ylabel('Sales')\n",
    "plt.title('Sales vs Store age')\n",
    "plt.show()"
   ]
  },
  {
   "cell_type": "markdown",
   "id": "483d26db",
   "metadata": {},
   "source": [
    "As we can see in the graph, Age of the store does not matter while we consider total sales.\n",
    "\n",
    "But in some cases, for some type of products, customer may face trust issues in new stores. So to build a machine learning model it is best to take multiple linear regression method.\n",
    "\n",
    "Our ultimate goal is to predict the sales, depending upon the item type, weight, fatcontent, visibility, MRP, Outlet type, age of store."
   ]
  },
  {
   "cell_type": "code",
   "execution_count": 70,
   "id": "4736d596",
   "metadata": {},
   "outputs": [],
   "source": [
    "main=mega[['Item','Itemtype','Weight','FatContent','Visibility','MRP','Outlet','OutletSize','OutletCity','OutletType','age_of_store','Sales']]"
   ]
  },
  {
   "cell_type": "code",
   "execution_count": 71,
   "id": "7b0cc4c9",
   "metadata": {},
   "outputs": [
    {
     "data": {
      "text/html": [
       "<div>\n",
       "<style scoped>\n",
       "    .dataframe tbody tr th:only-of-type {\n",
       "        vertical-align: middle;\n",
       "    }\n",
       "\n",
       "    .dataframe tbody tr th {\n",
       "        vertical-align: top;\n",
       "    }\n",
       "\n",
       "    .dataframe thead th {\n",
       "        text-align: right;\n",
       "    }\n",
       "</style>\n",
       "<table border=\"1\" class=\"dataframe\">\n",
       "  <thead>\n",
       "    <tr style=\"text-align: right;\">\n",
       "      <th></th>\n",
       "      <th>Item</th>\n",
       "      <th>Itemtype</th>\n",
       "      <th>Weight</th>\n",
       "      <th>FatContent</th>\n",
       "      <th>Visibility</th>\n",
       "      <th>MRP</th>\n",
       "      <th>Outlet</th>\n",
       "      <th>OutletSize</th>\n",
       "      <th>OutletCity</th>\n",
       "      <th>OutletType</th>\n",
       "      <th>age_of_store</th>\n",
       "      <th>Sales</th>\n",
       "    </tr>\n",
       "  </thead>\n",
       "  <tbody>\n",
       "    <tr>\n",
       "      <th>0</th>\n",
       "      <td>FDU28</td>\n",
       "      <td>Frozen Foods</td>\n",
       "      <td>19.200</td>\n",
       "      <td>Regular</td>\n",
       "      <td>0.094450</td>\n",
       "      <td>187.8214</td>\n",
       "      <td>OUT_017</td>\n",
       "      <td>Medium</td>\n",
       "      <td>Tier 2</td>\n",
       "      <td>Supermarket Type1</td>\n",
       "      <td>15</td>\n",
       "      <td>4710.5350</td>\n",
       "    </tr>\n",
       "    <tr>\n",
       "      <th>1</th>\n",
       "      <td>FDY07</td>\n",
       "      <td>Fruits and Vegetables</td>\n",
       "      <td>11.800</td>\n",
       "      <td>Low Fat</td>\n",
       "      <td>0.000000</td>\n",
       "      <td>45.5402</td>\n",
       "      <td>OUT_049</td>\n",
       "      <td>Medium</td>\n",
       "      <td>Tier 1</td>\n",
       "      <td>Supermarket Type1</td>\n",
       "      <td>23</td>\n",
       "      <td>1516.0266</td>\n",
       "    </tr>\n",
       "    <tr>\n",
       "      <th>2</th>\n",
       "      <td>FDA03</td>\n",
       "      <td>Dairy</td>\n",
       "      <td>18.500</td>\n",
       "      <td>Regular</td>\n",
       "      <td>0.045464</td>\n",
       "      <td>144.1102</td>\n",
       "      <td>OUT_046</td>\n",
       "      <td>Small</td>\n",
       "      <td>Tier 1</td>\n",
       "      <td>Supermarket Type1</td>\n",
       "      <td>25</td>\n",
       "      <td>2187.1530</td>\n",
       "    </tr>\n",
       "    <tr>\n",
       "      <th>3</th>\n",
       "      <td>FDX32</td>\n",
       "      <td>Fruits and Vegetables</td>\n",
       "      <td>15.100</td>\n",
       "      <td>Regular</td>\n",
       "      <td>0.100014</td>\n",
       "      <td>145.4786</td>\n",
       "      <td>OUT_049</td>\n",
       "      <td>Medium</td>\n",
       "      <td>Tier 1</td>\n",
       "      <td>Supermarket Type1</td>\n",
       "      <td>23</td>\n",
       "      <td>1589.2646</td>\n",
       "    </tr>\n",
       "    <tr>\n",
       "      <th>4</th>\n",
       "      <td>FDS46</td>\n",
       "      <td>Snack Foods</td>\n",
       "      <td>17.600</td>\n",
       "      <td>Regular</td>\n",
       "      <td>0.047257</td>\n",
       "      <td>119.6782</td>\n",
       "      <td>OUT_046</td>\n",
       "      <td>Small</td>\n",
       "      <td>Tier 1</td>\n",
       "      <td>Supermarket Type1</td>\n",
       "      <td>25</td>\n",
       "      <td>2145.2076</td>\n",
       "    </tr>\n",
       "    <tr>\n",
       "      <th>...</th>\n",
       "      <td>...</td>\n",
       "      <td>...</td>\n",
       "      <td>...</td>\n",
       "      <td>...</td>\n",
       "      <td>...</td>\n",
       "      <td>...</td>\n",
       "      <td>...</td>\n",
       "      <td>...</td>\n",
       "      <td>...</td>\n",
       "      <td>...</td>\n",
       "      <td>...</td>\n",
       "      <td>...</td>\n",
       "    </tr>\n",
       "    <tr>\n",
       "      <th>8518</th>\n",
       "      <td>FDF22</td>\n",
       "      <td>Snack Foods</td>\n",
       "      <td>6.865</td>\n",
       "      <td>Low Fat</td>\n",
       "      <td>0.056783</td>\n",
       "      <td>214.5218</td>\n",
       "      <td>OUT_013</td>\n",
       "      <td>High</td>\n",
       "      <td>Tier 3</td>\n",
       "      <td>Supermarket Type1</td>\n",
       "      <td>35</td>\n",
       "      <td>2778.3834</td>\n",
       "    </tr>\n",
       "    <tr>\n",
       "      <th>8519</th>\n",
       "      <td>FDS36</td>\n",
       "      <td>Baking Goods</td>\n",
       "      <td>8.380</td>\n",
       "      <td>Regular</td>\n",
       "      <td>0.046982</td>\n",
       "      <td>108.1570</td>\n",
       "      <td>OUT_045</td>\n",
       "      <td>NaN</td>\n",
       "      <td>Tier 2</td>\n",
       "      <td>Supermarket Type1</td>\n",
       "      <td>20</td>\n",
       "      <td>549.2850</td>\n",
       "    </tr>\n",
       "    <tr>\n",
       "      <th>8520</th>\n",
       "      <td>NCJ29</td>\n",
       "      <td>Health and Hygiene</td>\n",
       "      <td>10.600</td>\n",
       "      <td>Low Fat</td>\n",
       "      <td>0.035186</td>\n",
       "      <td>85.1224</td>\n",
       "      <td>OUT_035</td>\n",
       "      <td>Small</td>\n",
       "      <td>Tier 2</td>\n",
       "      <td>Supermarket Type1</td>\n",
       "      <td>18</td>\n",
       "      <td>1193.1136</td>\n",
       "    </tr>\n",
       "    <tr>\n",
       "      <th>8521</th>\n",
       "      <td>FDN46</td>\n",
       "      <td>Snack Foods</td>\n",
       "      <td>7.210</td>\n",
       "      <td>Regular</td>\n",
       "      <td>0.145221</td>\n",
       "      <td>103.1332</td>\n",
       "      <td>OUT_018</td>\n",
       "      <td>Medium</td>\n",
       "      <td>Tier 3</td>\n",
       "      <td>Supermarket Type2</td>\n",
       "      <td>13</td>\n",
       "      <td>1845.5976</td>\n",
       "    </tr>\n",
       "    <tr>\n",
       "      <th>8522</th>\n",
       "      <td>DRG01</td>\n",
       "      <td>Soft Drinks</td>\n",
       "      <td>14.800</td>\n",
       "      <td>Low Fat</td>\n",
       "      <td>0.044878</td>\n",
       "      <td>75.4670</td>\n",
       "      <td>OUT_046</td>\n",
       "      <td>Small</td>\n",
       "      <td>Tier 1</td>\n",
       "      <td>Supermarket Type1</td>\n",
       "      <td>25</td>\n",
       "      <td>765.6700</td>\n",
       "    </tr>\n",
       "  </tbody>\n",
       "</table>\n",
       "<p>8523 rows × 12 columns</p>\n",
       "</div>"
      ],
      "text/plain": [
       "       Item               Itemtype  Weight FatContent  Visibility       MRP  \\\n",
       "0     FDU28           Frozen Foods  19.200    Regular    0.094450  187.8214   \n",
       "1     FDY07  Fruits and Vegetables  11.800    Low Fat    0.000000   45.5402   \n",
       "2     FDA03                  Dairy  18.500    Regular    0.045464  144.1102   \n",
       "3     FDX32  Fruits and Vegetables  15.100    Regular    0.100014  145.4786   \n",
       "4     FDS46            Snack Foods  17.600    Regular    0.047257  119.6782   \n",
       "...     ...                    ...     ...        ...         ...       ...   \n",
       "8518  FDF22            Snack Foods   6.865    Low Fat    0.056783  214.5218   \n",
       "8519  FDS36           Baking Goods   8.380    Regular    0.046982  108.1570   \n",
       "8520  NCJ29     Health and Hygiene  10.600    Low Fat    0.035186   85.1224   \n",
       "8521  FDN46            Snack Foods   7.210    Regular    0.145221  103.1332   \n",
       "8522  DRG01            Soft Drinks  14.800    Low Fat    0.044878   75.4670   \n",
       "\n",
       "       Outlet OutletSize OutletCity         OutletType  age_of_store  \\\n",
       "0     OUT_017     Medium     Tier 2  Supermarket Type1            15   \n",
       "1     OUT_049     Medium     Tier 1  Supermarket Type1            23   \n",
       "2     OUT_046      Small     Tier 1  Supermarket Type1            25   \n",
       "3     OUT_049     Medium     Tier 1  Supermarket Type1            23   \n",
       "4     OUT_046      Small     Tier 1  Supermarket Type1            25   \n",
       "...       ...        ...        ...                ...           ...   \n",
       "8518  OUT_013       High     Tier 3  Supermarket Type1            35   \n",
       "8519  OUT_045        NaN     Tier 2  Supermarket Type1            20   \n",
       "8520  OUT_035      Small     Tier 2  Supermarket Type1            18   \n",
       "8521  OUT_018     Medium     Tier 3  Supermarket Type2            13   \n",
       "8522  OUT_046      Small     Tier 1  Supermarket Type1            25   \n",
       "\n",
       "          Sales  \n",
       "0     4710.5350  \n",
       "1     1516.0266  \n",
       "2     2187.1530  \n",
       "3     1589.2646  \n",
       "4     2145.2076  \n",
       "...         ...  \n",
       "8518  2778.3834  \n",
       "8519   549.2850  \n",
       "8520  1193.1136  \n",
       "8521  1845.5976  \n",
       "8522   765.6700  \n",
       "\n",
       "[8523 rows x 12 columns]"
      ]
     },
     "execution_count": 71,
     "metadata": {},
     "output_type": "execute_result"
    }
   ],
   "source": [
    "main"
   ]
  },
  {
   "cell_type": "code",
   "execution_count": 72,
   "id": "8a011b6c",
   "metadata": {},
   "outputs": [
    {
     "name": "stdout",
     "output_type": "stream",
     "text": [
      "Index(['Weight', 'Visibility', 'MRP', 'age_of_store', 'Sales', 'Item_DRA12',\n",
      "       'Item_DRA24', 'Item_DRA59', 'Item_DRB01', 'Item_DRB13',\n",
      "       ...\n",
      "       'OutletSize_High', 'OutletSize_Medium', 'OutletSize_Small',\n",
      "       'OutletCity_Tier 1', 'OutletCity_Tier 2', 'OutletCity_Tier 3',\n",
      "       'OutletType_Grocery Store', 'OutletType_Supermarket Type1',\n",
      "       'OutletType_Supermarket Type2', 'OutletType_Supermarket Type3'],\n",
      "      dtype='object', length=1605)\n"
     ]
    }
   ],
   "source": [
    "clmns=['Item','Itemtype','FatContent','Outlet','OutletSize','OutletCity','OutletType']\n",
    "main=pd.get_dummies(main,columns=clmns)\n",
    "print(main.columns)"
   ]
  },
  {
   "cell_type": "code",
   "execution_count": 73,
   "id": "a365a8f4",
   "metadata": {},
   "outputs": [
    {
     "data": {
      "text/plain": [
       "array([[ 1.48221216,  1.51090416,  0.54884531,  0.75200828, -1.09519035],\n",
       "       [-0.38986317, -0.23974956, -1.28175775, -1.53284753, -0.13954076],\n",
       "       [ 0.00343653,  1.34530178, -0.400588  ,  0.05006178,  0.09937163],\n",
       "       ...,\n",
       "       [-0.57909963, -0.52363935, -0.59978449, -0.89720755, -0.73682175],\n",
       "       [-0.19672492, -1.32562802,  1.53287976, -0.60797692, -1.33410274],\n",
       "       [-0.82959407,  0.46997492, -0.41193591, -1.05226104,  0.09937163]])"
      ]
     },
     "execution_count": 73,
     "metadata": {},
     "output_type": "execute_result"
    }
   ],
   "source": [
    "scaler = StandardScaler().fit(main[[ 'Sales','Weight', 'Visibility', 'MRP', 'age_of_store']])\n",
    "main_norm=scaler.transform(main[['Sales','Weight', 'Visibility', 'MRP', 'age_of_store']])\n",
    "main_norm"
   ]
  },
  {
   "cell_type": "code",
   "execution_count": 74,
   "id": "93da0c0b",
   "metadata": {},
   "outputs": [],
   "source": [
    "main_norm_df=pd. DataFrame(main_norm, columns=['Sales','Weight', 'Visibility', 'MRP', 'age_of_store'])\n",
    "main_norm_df=main_norm_df.join(main[main.columns.drop(['Sales','Weight', 'Visibility', 'MRP', 'age_of_store'])])"
   ]
  },
  {
   "cell_type": "code",
   "execution_count": 75,
   "id": "31f2268a",
   "metadata": {},
   "outputs": [
    {
     "data": {
      "text/plain": [
       "(8523, 1604)"
      ]
     },
     "execution_count": 75,
     "metadata": {},
     "output_type": "execute_result"
    }
   ],
   "source": [
    "Y = main_norm_df['Sales']\n",
    "X = main_norm_df[main_norm_df.columns.drop(['Sales'])]\n",
    "X.shape"
   ]
  },
  {
   "cell_type": "code",
   "execution_count": 76,
   "id": "b07028a7",
   "metadata": {},
   "outputs": [
    {
     "data": {
      "text/plain": [
       "((7244, 1604), (1279, 1604))"
      ]
     },
     "execution_count": 76,
     "metadata": {},
     "output_type": "execute_result"
    }
   ],
   "source": [
    "X_train,X_test,Y_train,Y_test = train_test_split(X,Y,test_size=0.15, random_state=100)\n",
    "X_train.shape , X_test.shape"
   ]
  },
  {
   "cell_type": "code",
   "execution_count": 77,
   "id": "f47b0521",
   "metadata": {},
   "outputs": [
    {
     "data": {
      "text/plain": [
       "LinearRegression()"
      ]
     },
     "execution_count": 77,
     "metadata": {},
     "output_type": "execute_result"
    }
   ],
   "source": [
    "model = LinearRegression()\n",
    "model.fit(X_train,Y_train)"
   ]
  },
  {
   "cell_type": "code",
   "execution_count": 78,
   "id": "d7f39a88",
   "metadata": {},
   "outputs": [
    {
     "data": {
      "text/plain": [
       "-2.628278254548526e+20"
      ]
     },
     "execution_count": 78,
     "metadata": {},
     "output_type": "execute_result"
    }
   ],
   "source": [
    "model.score(X_test,Y_test)"
   ]
  },
  {
   "cell_type": "code",
   "execution_count": 79,
   "id": "edb2c9a5",
   "metadata": {},
   "outputs": [
    {
     "name": "stdout",
     "output_type": "stream",
     "text": [
      "Train Score (R-Squared):  0.6507783507387066\n",
      "Test Score (R-Squared) -2.628278254548526e+20\n"
     ]
    }
   ],
   "source": [
    "train_score=model.score(X_train,Y_train)\n",
    "test_score=model.score(X_test,Y_test)\n",
    "print('Train Score (R-Squared): ',train_score)\n",
    "print('Test Score (R-Squared)',test_score)"
   ]
  },
  {
   "cell_type": "code",
   "execution_count": 80,
   "id": "9b8779d5",
   "metadata": {},
   "outputs": [
    {
     "name": "stdout",
     "output_type": "stream",
     "text": [
      "Train RMSE :  0.5881826948237537\n",
      "Test RMSE :  16622180450.519276\n"
     ]
    }
   ],
   "source": [
    "train_predictions = model.predict(X_train)\n",
    "train_RMSE=mean_squared_error(Y_train,train_predictions)**0.5\n",
    "test_predictions = model.predict(X_test)\n",
    "test_RMSE=mean_squared_error(Y_test,test_predictions)**0.5\n",
    "print('Train RMSE : ',train_RMSE)\n",
    "print('Test RMSE : ',test_RMSE)"
   ]
  },
  {
   "cell_type": "code",
   "execution_count": null,
   "id": "a50a497a",
   "metadata": {},
   "outputs": [],
   "source": []
  }
 ],
 "metadata": {
  "kernelspec": {
   "display_name": "Python 3",
   "language": "python",
   "name": "python3"
  },
  "language_info": {
   "codemirror_mode": {
    "name": "ipython",
    "version": 3
   },
   "file_extension": ".py",
   "mimetype": "text/x-python",
   "name": "python",
   "nbconvert_exporter": "python",
   "pygments_lexer": "ipython3",
   "version": "3.8.8"
  }
 },
 "nbformat": 4,
 "nbformat_minor": 5
}
